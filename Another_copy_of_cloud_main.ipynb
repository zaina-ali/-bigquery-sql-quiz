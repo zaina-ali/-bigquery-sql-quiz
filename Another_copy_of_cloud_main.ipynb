{
  "nbformat": 4,
  "nbformat_minor": 0,
  "metadata": {
    "colab": {
      "provenance": [],
      "collapsed_sections": [
        "TyLYyg9d3xXG"
      ],
      "include_colab_link": true
    },
    "kernelspec": {
      "name": "python3",
      "display_name": "Python 3"
    },
    "language_info": {
      "name": "python"
    },
    "widgets": {
      "application/vnd.jupyter.widget-state+json": {
        "e61ccd442453417ba466acfb9bd381f1": {
          "model_module": "@jupyter-widgets/controls",
          "model_name": "HBoxModel",
          "model_module_version": "1.5.0",
          "state": {
            "_dom_classes": [],
            "_model_module": "@jupyter-widgets/controls",
            "_model_module_version": "1.5.0",
            "_model_name": "HBoxModel",
            "_view_count": null,
            "_view_module": "@jupyter-widgets/controls",
            "_view_module_version": "1.5.0",
            "_view_name": "HBoxView",
            "box_style": "",
            "children": [
              "IPY_MODEL_c8edb43d040d4a19aa9120623a80940e",
              "IPY_MODEL_bd52132471be43cea8f624d4f45ba9f5",
              "IPY_MODEL_4d280e6bdd564efd860586c94babbcff"
            ],
            "layout": "IPY_MODEL_36b63c3c9b674f348e0824f463edf47c"
          }
        },
        "c8edb43d040d4a19aa9120623a80940e": {
          "model_module": "@jupyter-widgets/controls",
          "model_name": "HTMLModel",
          "model_module_version": "1.5.0",
          "state": {
            "_dom_classes": [],
            "_model_module": "@jupyter-widgets/controls",
            "_model_module_version": "1.5.0",
            "_model_name": "HTMLModel",
            "_view_count": null,
            "_view_module": "@jupyter-widgets/controls",
            "_view_module_version": "1.5.0",
            "_view_name": "HTMLView",
            "description": "",
            "description_tooltip": null,
            "layout": "IPY_MODEL_f320c8946c0e44e6b1c7b14102f52c1b",
            "placeholder": "​",
            "style": "IPY_MODEL_d7410039dbaf4b44b8af97ad4a48a2be",
            "value": "config.json: 100%"
          }
        },
        "bd52132471be43cea8f624d4f45ba9f5": {
          "model_module": "@jupyter-widgets/controls",
          "model_name": "FloatProgressModel",
          "model_module_version": "1.5.0",
          "state": {
            "_dom_classes": [],
            "_model_module": "@jupyter-widgets/controls",
            "_model_module_version": "1.5.0",
            "_model_name": "FloatProgressModel",
            "_view_count": null,
            "_view_module": "@jupyter-widgets/controls",
            "_view_module_version": "1.5.0",
            "_view_name": "ProgressView",
            "bar_style": "success",
            "description": "",
            "description_tooltip": null,
            "layout": "IPY_MODEL_dd502cdd84f04f62a43d3633860759b3",
            "max": 629,
            "min": 0,
            "orientation": "horizontal",
            "style": "IPY_MODEL_f655a3fc14bf447385f94edbf0e0a736",
            "value": 629
          }
        },
        "4d280e6bdd564efd860586c94babbcff": {
          "model_module": "@jupyter-widgets/controls",
          "model_name": "HTMLModel",
          "model_module_version": "1.5.0",
          "state": {
            "_dom_classes": [],
            "_model_module": "@jupyter-widgets/controls",
            "_model_module_version": "1.5.0",
            "_model_name": "HTMLModel",
            "_view_count": null,
            "_view_module": "@jupyter-widgets/controls",
            "_view_module_version": "1.5.0",
            "_view_name": "HTMLView",
            "description": "",
            "description_tooltip": null,
            "layout": "IPY_MODEL_45d22af61bd244ab9f91f9699a5e2dfe",
            "placeholder": "​",
            "style": "IPY_MODEL_6dab354a182148f480e9792a9479cd13",
            "value": " 629/629 [00:00&lt;00:00, 43.5kB/s]"
          }
        },
        "36b63c3c9b674f348e0824f463edf47c": {
          "model_module": "@jupyter-widgets/base",
          "model_name": "LayoutModel",
          "model_module_version": "1.2.0",
          "state": {
            "_model_module": "@jupyter-widgets/base",
            "_model_module_version": "1.2.0",
            "_model_name": "LayoutModel",
            "_view_count": null,
            "_view_module": "@jupyter-widgets/base",
            "_view_module_version": "1.2.0",
            "_view_name": "LayoutView",
            "align_content": null,
            "align_items": null,
            "align_self": null,
            "border": null,
            "bottom": null,
            "display": null,
            "flex": null,
            "flex_flow": null,
            "grid_area": null,
            "grid_auto_columns": null,
            "grid_auto_flow": null,
            "grid_auto_rows": null,
            "grid_column": null,
            "grid_gap": null,
            "grid_row": null,
            "grid_template_areas": null,
            "grid_template_columns": null,
            "grid_template_rows": null,
            "height": null,
            "justify_content": null,
            "justify_items": null,
            "left": null,
            "margin": null,
            "max_height": null,
            "max_width": null,
            "min_height": null,
            "min_width": null,
            "object_fit": null,
            "object_position": null,
            "order": null,
            "overflow": null,
            "overflow_x": null,
            "overflow_y": null,
            "padding": null,
            "right": null,
            "top": null,
            "visibility": null,
            "width": null
          }
        },
        "f320c8946c0e44e6b1c7b14102f52c1b": {
          "model_module": "@jupyter-widgets/base",
          "model_name": "LayoutModel",
          "model_module_version": "1.2.0",
          "state": {
            "_model_module": "@jupyter-widgets/base",
            "_model_module_version": "1.2.0",
            "_model_name": "LayoutModel",
            "_view_count": null,
            "_view_module": "@jupyter-widgets/base",
            "_view_module_version": "1.2.0",
            "_view_name": "LayoutView",
            "align_content": null,
            "align_items": null,
            "align_self": null,
            "border": null,
            "bottom": null,
            "display": null,
            "flex": null,
            "flex_flow": null,
            "grid_area": null,
            "grid_auto_columns": null,
            "grid_auto_flow": null,
            "grid_auto_rows": null,
            "grid_column": null,
            "grid_gap": null,
            "grid_row": null,
            "grid_template_areas": null,
            "grid_template_columns": null,
            "grid_template_rows": null,
            "height": null,
            "justify_content": null,
            "justify_items": null,
            "left": null,
            "margin": null,
            "max_height": null,
            "max_width": null,
            "min_height": null,
            "min_width": null,
            "object_fit": null,
            "object_position": null,
            "order": null,
            "overflow": null,
            "overflow_x": null,
            "overflow_y": null,
            "padding": null,
            "right": null,
            "top": null,
            "visibility": null,
            "width": null
          }
        },
        "d7410039dbaf4b44b8af97ad4a48a2be": {
          "model_module": "@jupyter-widgets/controls",
          "model_name": "DescriptionStyleModel",
          "model_module_version": "1.5.0",
          "state": {
            "_model_module": "@jupyter-widgets/controls",
            "_model_module_version": "1.5.0",
            "_model_name": "DescriptionStyleModel",
            "_view_count": null,
            "_view_module": "@jupyter-widgets/base",
            "_view_module_version": "1.2.0",
            "_view_name": "StyleView",
            "description_width": ""
          }
        },
        "dd502cdd84f04f62a43d3633860759b3": {
          "model_module": "@jupyter-widgets/base",
          "model_name": "LayoutModel",
          "model_module_version": "1.2.0",
          "state": {
            "_model_module": "@jupyter-widgets/base",
            "_model_module_version": "1.2.0",
            "_model_name": "LayoutModel",
            "_view_count": null,
            "_view_module": "@jupyter-widgets/base",
            "_view_module_version": "1.2.0",
            "_view_name": "LayoutView",
            "align_content": null,
            "align_items": null,
            "align_self": null,
            "border": null,
            "bottom": null,
            "display": null,
            "flex": null,
            "flex_flow": null,
            "grid_area": null,
            "grid_auto_columns": null,
            "grid_auto_flow": null,
            "grid_auto_rows": null,
            "grid_column": null,
            "grid_gap": null,
            "grid_row": null,
            "grid_template_areas": null,
            "grid_template_columns": null,
            "grid_template_rows": null,
            "height": null,
            "justify_content": null,
            "justify_items": null,
            "left": null,
            "margin": null,
            "max_height": null,
            "max_width": null,
            "min_height": null,
            "min_width": null,
            "object_fit": null,
            "object_position": null,
            "order": null,
            "overflow": null,
            "overflow_x": null,
            "overflow_y": null,
            "padding": null,
            "right": null,
            "top": null,
            "visibility": null,
            "width": null
          }
        },
        "f655a3fc14bf447385f94edbf0e0a736": {
          "model_module": "@jupyter-widgets/controls",
          "model_name": "ProgressStyleModel",
          "model_module_version": "1.5.0",
          "state": {
            "_model_module": "@jupyter-widgets/controls",
            "_model_module_version": "1.5.0",
            "_model_name": "ProgressStyleModel",
            "_view_count": null,
            "_view_module": "@jupyter-widgets/base",
            "_view_module_version": "1.2.0",
            "_view_name": "StyleView",
            "bar_color": null,
            "description_width": ""
          }
        },
        "45d22af61bd244ab9f91f9699a5e2dfe": {
          "model_module": "@jupyter-widgets/base",
          "model_name": "LayoutModel",
          "model_module_version": "1.2.0",
          "state": {
            "_model_module": "@jupyter-widgets/base",
            "_model_module_version": "1.2.0",
            "_model_name": "LayoutModel",
            "_view_count": null,
            "_view_module": "@jupyter-widgets/base",
            "_view_module_version": "1.2.0",
            "_view_name": "LayoutView",
            "align_content": null,
            "align_items": null,
            "align_self": null,
            "border": null,
            "bottom": null,
            "display": null,
            "flex": null,
            "flex_flow": null,
            "grid_area": null,
            "grid_auto_columns": null,
            "grid_auto_flow": null,
            "grid_auto_rows": null,
            "grid_column": null,
            "grid_gap": null,
            "grid_row": null,
            "grid_template_areas": null,
            "grid_template_columns": null,
            "grid_template_rows": null,
            "height": null,
            "justify_content": null,
            "justify_items": null,
            "left": null,
            "margin": null,
            "max_height": null,
            "max_width": null,
            "min_height": null,
            "min_width": null,
            "object_fit": null,
            "object_position": null,
            "order": null,
            "overflow": null,
            "overflow_x": null,
            "overflow_y": null,
            "padding": null,
            "right": null,
            "top": null,
            "visibility": null,
            "width": null
          }
        },
        "6dab354a182148f480e9792a9479cd13": {
          "model_module": "@jupyter-widgets/controls",
          "model_name": "DescriptionStyleModel",
          "model_module_version": "1.5.0",
          "state": {
            "_model_module": "@jupyter-widgets/controls",
            "_model_module_version": "1.5.0",
            "_model_name": "DescriptionStyleModel",
            "_view_count": null,
            "_view_module": "@jupyter-widgets/base",
            "_view_module_version": "1.2.0",
            "_view_name": "StyleView",
            "description_width": ""
          }
        },
        "54bf8407e42748ea8aa06ddd29adb2a7": {
          "model_module": "@jupyter-widgets/controls",
          "model_name": "HBoxModel",
          "model_module_version": "1.5.0",
          "state": {
            "_dom_classes": [],
            "_model_module": "@jupyter-widgets/controls",
            "_model_module_version": "1.5.0",
            "_model_name": "HBoxModel",
            "_view_count": null,
            "_view_module": "@jupyter-widgets/controls",
            "_view_module_version": "1.5.0",
            "_view_name": "HBoxView",
            "box_style": "",
            "children": [
              "IPY_MODEL_fae10b51581c47e991f0c3a675d697ec",
              "IPY_MODEL_e106bfd6d5ab4e77a5ba1f7714b069cc",
              "IPY_MODEL_0260c0e0739e458e9e05322908536644"
            ],
            "layout": "IPY_MODEL_f524fbc316284cf7a32d83295eda4fe6"
          }
        },
        "fae10b51581c47e991f0c3a675d697ec": {
          "model_module": "@jupyter-widgets/controls",
          "model_name": "HTMLModel",
          "model_module_version": "1.5.0",
          "state": {
            "_dom_classes": [],
            "_model_module": "@jupyter-widgets/controls",
            "_model_module_version": "1.5.0",
            "_model_name": "HTMLModel",
            "_view_count": null,
            "_view_module": "@jupyter-widgets/controls",
            "_view_module_version": "1.5.0",
            "_view_name": "HTMLView",
            "description": "",
            "description_tooltip": null,
            "layout": "IPY_MODEL_e0f3ba03215a40b8ab84dfd9ee090047",
            "placeholder": "​",
            "style": "IPY_MODEL_3e9cc6d3d0e244538e4d97da6ca1296d",
            "value": "model.safetensors: 100%"
          }
        },
        "e106bfd6d5ab4e77a5ba1f7714b069cc": {
          "model_module": "@jupyter-widgets/controls",
          "model_name": "FloatProgressModel",
          "model_module_version": "1.5.0",
          "state": {
            "_dom_classes": [],
            "_model_module": "@jupyter-widgets/controls",
            "_model_module_version": "1.5.0",
            "_model_name": "FloatProgressModel",
            "_view_count": null,
            "_view_module": "@jupyter-widgets/controls",
            "_view_module_version": "1.5.0",
            "_view_name": "ProgressView",
            "bar_style": "success",
            "description": "",
            "description_tooltip": null,
            "layout": "IPY_MODEL_ccde4c0fa4e14a2fabf473016599232f",
            "max": 267832558,
            "min": 0,
            "orientation": "horizontal",
            "style": "IPY_MODEL_4183db6b6db84499a1e880f37a4a6864",
            "value": 267832558
          }
        },
        "0260c0e0739e458e9e05322908536644": {
          "model_module": "@jupyter-widgets/controls",
          "model_name": "HTMLModel",
          "model_module_version": "1.5.0",
          "state": {
            "_dom_classes": [],
            "_model_module": "@jupyter-widgets/controls",
            "_model_module_version": "1.5.0",
            "_model_name": "HTMLModel",
            "_view_count": null,
            "_view_module": "@jupyter-widgets/controls",
            "_view_module_version": "1.5.0",
            "_view_name": "HTMLView",
            "description": "",
            "description_tooltip": null,
            "layout": "IPY_MODEL_08c4972606ad4a21b37624b319dd0845",
            "placeholder": "​",
            "style": "IPY_MODEL_fcd2b1b7999340b1bcc572f3240132ee",
            "value": " 268M/268M [00:02&lt;00:00, 130MB/s]"
          }
        },
        "f524fbc316284cf7a32d83295eda4fe6": {
          "model_module": "@jupyter-widgets/base",
          "model_name": "LayoutModel",
          "model_module_version": "1.2.0",
          "state": {
            "_model_module": "@jupyter-widgets/base",
            "_model_module_version": "1.2.0",
            "_model_name": "LayoutModel",
            "_view_count": null,
            "_view_module": "@jupyter-widgets/base",
            "_view_module_version": "1.2.0",
            "_view_name": "LayoutView",
            "align_content": null,
            "align_items": null,
            "align_self": null,
            "border": null,
            "bottom": null,
            "display": null,
            "flex": null,
            "flex_flow": null,
            "grid_area": null,
            "grid_auto_columns": null,
            "grid_auto_flow": null,
            "grid_auto_rows": null,
            "grid_column": null,
            "grid_gap": null,
            "grid_row": null,
            "grid_template_areas": null,
            "grid_template_columns": null,
            "grid_template_rows": null,
            "height": null,
            "justify_content": null,
            "justify_items": null,
            "left": null,
            "margin": null,
            "max_height": null,
            "max_width": null,
            "min_height": null,
            "min_width": null,
            "object_fit": null,
            "object_position": null,
            "order": null,
            "overflow": null,
            "overflow_x": null,
            "overflow_y": null,
            "padding": null,
            "right": null,
            "top": null,
            "visibility": null,
            "width": null
          }
        },
        "e0f3ba03215a40b8ab84dfd9ee090047": {
          "model_module": "@jupyter-widgets/base",
          "model_name": "LayoutModel",
          "model_module_version": "1.2.0",
          "state": {
            "_model_module": "@jupyter-widgets/base",
            "_model_module_version": "1.2.0",
            "_model_name": "LayoutModel",
            "_view_count": null,
            "_view_module": "@jupyter-widgets/base",
            "_view_module_version": "1.2.0",
            "_view_name": "LayoutView",
            "align_content": null,
            "align_items": null,
            "align_self": null,
            "border": null,
            "bottom": null,
            "display": null,
            "flex": null,
            "flex_flow": null,
            "grid_area": null,
            "grid_auto_columns": null,
            "grid_auto_flow": null,
            "grid_auto_rows": null,
            "grid_column": null,
            "grid_gap": null,
            "grid_row": null,
            "grid_template_areas": null,
            "grid_template_columns": null,
            "grid_template_rows": null,
            "height": null,
            "justify_content": null,
            "justify_items": null,
            "left": null,
            "margin": null,
            "max_height": null,
            "max_width": null,
            "min_height": null,
            "min_width": null,
            "object_fit": null,
            "object_position": null,
            "order": null,
            "overflow": null,
            "overflow_x": null,
            "overflow_y": null,
            "padding": null,
            "right": null,
            "top": null,
            "visibility": null,
            "width": null
          }
        },
        "3e9cc6d3d0e244538e4d97da6ca1296d": {
          "model_module": "@jupyter-widgets/controls",
          "model_name": "DescriptionStyleModel",
          "model_module_version": "1.5.0",
          "state": {
            "_model_module": "@jupyter-widgets/controls",
            "_model_module_version": "1.5.0",
            "_model_name": "DescriptionStyleModel",
            "_view_count": null,
            "_view_module": "@jupyter-widgets/base",
            "_view_module_version": "1.2.0",
            "_view_name": "StyleView",
            "description_width": ""
          }
        },
        "ccde4c0fa4e14a2fabf473016599232f": {
          "model_module": "@jupyter-widgets/base",
          "model_name": "LayoutModel",
          "model_module_version": "1.2.0",
          "state": {
            "_model_module": "@jupyter-widgets/base",
            "_model_module_version": "1.2.0",
            "_model_name": "LayoutModel",
            "_view_count": null,
            "_view_module": "@jupyter-widgets/base",
            "_view_module_version": "1.2.0",
            "_view_name": "LayoutView",
            "align_content": null,
            "align_items": null,
            "align_self": null,
            "border": null,
            "bottom": null,
            "display": null,
            "flex": null,
            "flex_flow": null,
            "grid_area": null,
            "grid_auto_columns": null,
            "grid_auto_flow": null,
            "grid_auto_rows": null,
            "grid_column": null,
            "grid_gap": null,
            "grid_row": null,
            "grid_template_areas": null,
            "grid_template_columns": null,
            "grid_template_rows": null,
            "height": null,
            "justify_content": null,
            "justify_items": null,
            "left": null,
            "margin": null,
            "max_height": null,
            "max_width": null,
            "min_height": null,
            "min_width": null,
            "object_fit": null,
            "object_position": null,
            "order": null,
            "overflow": null,
            "overflow_x": null,
            "overflow_y": null,
            "padding": null,
            "right": null,
            "top": null,
            "visibility": null,
            "width": null
          }
        },
        "4183db6b6db84499a1e880f37a4a6864": {
          "model_module": "@jupyter-widgets/controls",
          "model_name": "ProgressStyleModel",
          "model_module_version": "1.5.0",
          "state": {
            "_model_module": "@jupyter-widgets/controls",
            "_model_module_version": "1.5.0",
            "_model_name": "ProgressStyleModel",
            "_view_count": null,
            "_view_module": "@jupyter-widgets/base",
            "_view_module_version": "1.2.0",
            "_view_name": "StyleView",
            "bar_color": null,
            "description_width": ""
          }
        },
        "08c4972606ad4a21b37624b319dd0845": {
          "model_module": "@jupyter-widgets/base",
          "model_name": "LayoutModel",
          "model_module_version": "1.2.0",
          "state": {
            "_model_module": "@jupyter-widgets/base",
            "_model_module_version": "1.2.0",
            "_model_name": "LayoutModel",
            "_view_count": null,
            "_view_module": "@jupyter-widgets/base",
            "_view_module_version": "1.2.0",
            "_view_name": "LayoutView",
            "align_content": null,
            "align_items": null,
            "align_self": null,
            "border": null,
            "bottom": null,
            "display": null,
            "flex": null,
            "flex_flow": null,
            "grid_area": null,
            "grid_auto_columns": null,
            "grid_auto_flow": null,
            "grid_auto_rows": null,
            "grid_column": null,
            "grid_gap": null,
            "grid_row": null,
            "grid_template_areas": null,
            "grid_template_columns": null,
            "grid_template_rows": null,
            "height": null,
            "justify_content": null,
            "justify_items": null,
            "left": null,
            "margin": null,
            "max_height": null,
            "max_width": null,
            "min_height": null,
            "min_width": null,
            "object_fit": null,
            "object_position": null,
            "order": null,
            "overflow": null,
            "overflow_x": null,
            "overflow_y": null,
            "padding": null,
            "right": null,
            "top": null,
            "visibility": null,
            "width": null
          }
        },
        "fcd2b1b7999340b1bcc572f3240132ee": {
          "model_module": "@jupyter-widgets/controls",
          "model_name": "DescriptionStyleModel",
          "model_module_version": "1.5.0",
          "state": {
            "_model_module": "@jupyter-widgets/controls",
            "_model_module_version": "1.5.0",
            "_model_name": "DescriptionStyleModel",
            "_view_count": null,
            "_view_module": "@jupyter-widgets/base",
            "_view_module_version": "1.2.0",
            "_view_name": "StyleView",
            "description_width": ""
          }
        },
        "2b40f219446441b188e3216d604e2075": {
          "model_module": "@jupyter-widgets/controls",
          "model_name": "HBoxModel",
          "model_module_version": "1.5.0",
          "state": {
            "_dom_classes": [],
            "_model_module": "@jupyter-widgets/controls",
            "_model_module_version": "1.5.0",
            "_model_name": "HBoxModel",
            "_view_count": null,
            "_view_module": "@jupyter-widgets/controls",
            "_view_module_version": "1.5.0",
            "_view_name": "HBoxView",
            "box_style": "",
            "children": [
              "IPY_MODEL_9cdf403700724d64924f3d879a256824",
              "IPY_MODEL_8459fa717d59472ba5706f5ba8b0e2d1",
              "IPY_MODEL_380d010cc6584d89b39f2e2c34c9b9b1"
            ],
            "layout": "IPY_MODEL_a83b168cf7364cd988c816e2aaa6fae3"
          }
        },
        "9cdf403700724d64924f3d879a256824": {
          "model_module": "@jupyter-widgets/controls",
          "model_name": "HTMLModel",
          "model_module_version": "1.5.0",
          "state": {
            "_dom_classes": [],
            "_model_module": "@jupyter-widgets/controls",
            "_model_module_version": "1.5.0",
            "_model_name": "HTMLModel",
            "_view_count": null,
            "_view_module": "@jupyter-widgets/controls",
            "_view_module_version": "1.5.0",
            "_view_name": "HTMLView",
            "description": "",
            "description_tooltip": null,
            "layout": "IPY_MODEL_da02ce55adb5442490458887ecf2800c",
            "placeholder": "​",
            "style": "IPY_MODEL_e09fbe799fa74fb692113e9ab05a417a",
            "value": "tokenizer_config.json: 100%"
          }
        },
        "8459fa717d59472ba5706f5ba8b0e2d1": {
          "model_module": "@jupyter-widgets/controls",
          "model_name": "FloatProgressModel",
          "model_module_version": "1.5.0",
          "state": {
            "_dom_classes": [],
            "_model_module": "@jupyter-widgets/controls",
            "_model_module_version": "1.5.0",
            "_model_name": "FloatProgressModel",
            "_view_count": null,
            "_view_module": "@jupyter-widgets/controls",
            "_view_module_version": "1.5.0",
            "_view_name": "ProgressView",
            "bar_style": "success",
            "description": "",
            "description_tooltip": null,
            "layout": "IPY_MODEL_0a65f541874e49f78142c08b410f9761",
            "max": 48,
            "min": 0,
            "orientation": "horizontal",
            "style": "IPY_MODEL_f3af339f123d44dd8aef78df9fcd91af",
            "value": 48
          }
        },
        "380d010cc6584d89b39f2e2c34c9b9b1": {
          "model_module": "@jupyter-widgets/controls",
          "model_name": "HTMLModel",
          "model_module_version": "1.5.0",
          "state": {
            "_dom_classes": [],
            "_model_module": "@jupyter-widgets/controls",
            "_model_module_version": "1.5.0",
            "_model_name": "HTMLModel",
            "_view_count": null,
            "_view_module": "@jupyter-widgets/controls",
            "_view_module_version": "1.5.0",
            "_view_name": "HTMLView",
            "description": "",
            "description_tooltip": null,
            "layout": "IPY_MODEL_ac99aea29a2e4ac3b61b44e09d164393",
            "placeholder": "​",
            "style": "IPY_MODEL_a888869a0e104ba6a5a2334053c30cd1",
            "value": " 48.0/48.0 [00:00&lt;00:00, 1.51kB/s]"
          }
        },
        "a83b168cf7364cd988c816e2aaa6fae3": {
          "model_module": "@jupyter-widgets/base",
          "model_name": "LayoutModel",
          "model_module_version": "1.2.0",
          "state": {
            "_model_module": "@jupyter-widgets/base",
            "_model_module_version": "1.2.0",
            "_model_name": "LayoutModel",
            "_view_count": null,
            "_view_module": "@jupyter-widgets/base",
            "_view_module_version": "1.2.0",
            "_view_name": "LayoutView",
            "align_content": null,
            "align_items": null,
            "align_self": null,
            "border": null,
            "bottom": null,
            "display": null,
            "flex": null,
            "flex_flow": null,
            "grid_area": null,
            "grid_auto_columns": null,
            "grid_auto_flow": null,
            "grid_auto_rows": null,
            "grid_column": null,
            "grid_gap": null,
            "grid_row": null,
            "grid_template_areas": null,
            "grid_template_columns": null,
            "grid_template_rows": null,
            "height": null,
            "justify_content": null,
            "justify_items": null,
            "left": null,
            "margin": null,
            "max_height": null,
            "max_width": null,
            "min_height": null,
            "min_width": null,
            "object_fit": null,
            "object_position": null,
            "order": null,
            "overflow": null,
            "overflow_x": null,
            "overflow_y": null,
            "padding": null,
            "right": null,
            "top": null,
            "visibility": null,
            "width": null
          }
        },
        "da02ce55adb5442490458887ecf2800c": {
          "model_module": "@jupyter-widgets/base",
          "model_name": "LayoutModel",
          "model_module_version": "1.2.0",
          "state": {
            "_model_module": "@jupyter-widgets/base",
            "_model_module_version": "1.2.0",
            "_model_name": "LayoutModel",
            "_view_count": null,
            "_view_module": "@jupyter-widgets/base",
            "_view_module_version": "1.2.0",
            "_view_name": "LayoutView",
            "align_content": null,
            "align_items": null,
            "align_self": null,
            "border": null,
            "bottom": null,
            "display": null,
            "flex": null,
            "flex_flow": null,
            "grid_area": null,
            "grid_auto_columns": null,
            "grid_auto_flow": null,
            "grid_auto_rows": null,
            "grid_column": null,
            "grid_gap": null,
            "grid_row": null,
            "grid_template_areas": null,
            "grid_template_columns": null,
            "grid_template_rows": null,
            "height": null,
            "justify_content": null,
            "justify_items": null,
            "left": null,
            "margin": null,
            "max_height": null,
            "max_width": null,
            "min_height": null,
            "min_width": null,
            "object_fit": null,
            "object_position": null,
            "order": null,
            "overflow": null,
            "overflow_x": null,
            "overflow_y": null,
            "padding": null,
            "right": null,
            "top": null,
            "visibility": null,
            "width": null
          }
        },
        "e09fbe799fa74fb692113e9ab05a417a": {
          "model_module": "@jupyter-widgets/controls",
          "model_name": "DescriptionStyleModel",
          "model_module_version": "1.5.0",
          "state": {
            "_model_module": "@jupyter-widgets/controls",
            "_model_module_version": "1.5.0",
            "_model_name": "DescriptionStyleModel",
            "_view_count": null,
            "_view_module": "@jupyter-widgets/base",
            "_view_module_version": "1.2.0",
            "_view_name": "StyleView",
            "description_width": ""
          }
        },
        "0a65f541874e49f78142c08b410f9761": {
          "model_module": "@jupyter-widgets/base",
          "model_name": "LayoutModel",
          "model_module_version": "1.2.0",
          "state": {
            "_model_module": "@jupyter-widgets/base",
            "_model_module_version": "1.2.0",
            "_model_name": "LayoutModel",
            "_view_count": null,
            "_view_module": "@jupyter-widgets/base",
            "_view_module_version": "1.2.0",
            "_view_name": "LayoutView",
            "align_content": null,
            "align_items": null,
            "align_self": null,
            "border": null,
            "bottom": null,
            "display": null,
            "flex": null,
            "flex_flow": null,
            "grid_area": null,
            "grid_auto_columns": null,
            "grid_auto_flow": null,
            "grid_auto_rows": null,
            "grid_column": null,
            "grid_gap": null,
            "grid_row": null,
            "grid_template_areas": null,
            "grid_template_columns": null,
            "grid_template_rows": null,
            "height": null,
            "justify_content": null,
            "justify_items": null,
            "left": null,
            "margin": null,
            "max_height": null,
            "max_width": null,
            "min_height": null,
            "min_width": null,
            "object_fit": null,
            "object_position": null,
            "order": null,
            "overflow": null,
            "overflow_x": null,
            "overflow_y": null,
            "padding": null,
            "right": null,
            "top": null,
            "visibility": null,
            "width": null
          }
        },
        "f3af339f123d44dd8aef78df9fcd91af": {
          "model_module": "@jupyter-widgets/controls",
          "model_name": "ProgressStyleModel",
          "model_module_version": "1.5.0",
          "state": {
            "_model_module": "@jupyter-widgets/controls",
            "_model_module_version": "1.5.0",
            "_model_name": "ProgressStyleModel",
            "_view_count": null,
            "_view_module": "@jupyter-widgets/base",
            "_view_module_version": "1.2.0",
            "_view_name": "StyleView",
            "bar_color": null,
            "description_width": ""
          }
        },
        "ac99aea29a2e4ac3b61b44e09d164393": {
          "model_module": "@jupyter-widgets/base",
          "model_name": "LayoutModel",
          "model_module_version": "1.2.0",
          "state": {
            "_model_module": "@jupyter-widgets/base",
            "_model_module_version": "1.2.0",
            "_model_name": "LayoutModel",
            "_view_count": null,
            "_view_module": "@jupyter-widgets/base",
            "_view_module_version": "1.2.0",
            "_view_name": "LayoutView",
            "align_content": null,
            "align_items": null,
            "align_self": null,
            "border": null,
            "bottom": null,
            "display": null,
            "flex": null,
            "flex_flow": null,
            "grid_area": null,
            "grid_auto_columns": null,
            "grid_auto_flow": null,
            "grid_auto_rows": null,
            "grid_column": null,
            "grid_gap": null,
            "grid_row": null,
            "grid_template_areas": null,
            "grid_template_columns": null,
            "grid_template_rows": null,
            "height": null,
            "justify_content": null,
            "justify_items": null,
            "left": null,
            "margin": null,
            "max_height": null,
            "max_width": null,
            "min_height": null,
            "min_width": null,
            "object_fit": null,
            "object_position": null,
            "order": null,
            "overflow": null,
            "overflow_x": null,
            "overflow_y": null,
            "padding": null,
            "right": null,
            "top": null,
            "visibility": null,
            "width": null
          }
        },
        "a888869a0e104ba6a5a2334053c30cd1": {
          "model_module": "@jupyter-widgets/controls",
          "model_name": "DescriptionStyleModel",
          "model_module_version": "1.5.0",
          "state": {
            "_model_module": "@jupyter-widgets/controls",
            "_model_module_version": "1.5.0",
            "_model_name": "DescriptionStyleModel",
            "_view_count": null,
            "_view_module": "@jupyter-widgets/base",
            "_view_module_version": "1.2.0",
            "_view_name": "StyleView",
            "description_width": ""
          }
        },
        "9968e5278b4141639412d6e0f9f2a848": {
          "model_module": "@jupyter-widgets/controls",
          "model_name": "HBoxModel",
          "model_module_version": "1.5.0",
          "state": {
            "_dom_classes": [],
            "_model_module": "@jupyter-widgets/controls",
            "_model_module_version": "1.5.0",
            "_model_name": "HBoxModel",
            "_view_count": null,
            "_view_module": "@jupyter-widgets/controls",
            "_view_module_version": "1.5.0",
            "_view_name": "HBoxView",
            "box_style": "",
            "children": [
              "IPY_MODEL_9d37eb7f3f84482d9188a79e833f0ca4",
              "IPY_MODEL_ecce492d8a034a4ebd617ad28e719709",
              "IPY_MODEL_322f06d1683c49c0a7a4e1aad403554b"
            ],
            "layout": "IPY_MODEL_09526639d6d24a699691444f9c766cce"
          }
        },
        "9d37eb7f3f84482d9188a79e833f0ca4": {
          "model_module": "@jupyter-widgets/controls",
          "model_name": "HTMLModel",
          "model_module_version": "1.5.0",
          "state": {
            "_dom_classes": [],
            "_model_module": "@jupyter-widgets/controls",
            "_model_module_version": "1.5.0",
            "_model_name": "HTMLModel",
            "_view_count": null,
            "_view_module": "@jupyter-widgets/controls",
            "_view_module_version": "1.5.0",
            "_view_name": "HTMLView",
            "description": "",
            "description_tooltip": null,
            "layout": "IPY_MODEL_519203e0cb7844e78bd84f30f570f37e",
            "placeholder": "​",
            "style": "IPY_MODEL_1c954c32e8b5413c9fc317d08f814825",
            "value": "vocab.txt: 100%"
          }
        },
        "ecce492d8a034a4ebd617ad28e719709": {
          "model_module": "@jupyter-widgets/controls",
          "model_name": "FloatProgressModel",
          "model_module_version": "1.5.0",
          "state": {
            "_dom_classes": [],
            "_model_module": "@jupyter-widgets/controls",
            "_model_module_version": "1.5.0",
            "_model_name": "FloatProgressModel",
            "_view_count": null,
            "_view_module": "@jupyter-widgets/controls",
            "_view_module_version": "1.5.0",
            "_view_name": "ProgressView",
            "bar_style": "success",
            "description": "",
            "description_tooltip": null,
            "layout": "IPY_MODEL_9c4f9523c07441a2a1323906aa3d9191",
            "max": 231508,
            "min": 0,
            "orientation": "horizontal",
            "style": "IPY_MODEL_1d0197ec747a4d8283274584fdcf1af9",
            "value": 231508
          }
        },
        "322f06d1683c49c0a7a4e1aad403554b": {
          "model_module": "@jupyter-widgets/controls",
          "model_name": "HTMLModel",
          "model_module_version": "1.5.0",
          "state": {
            "_dom_classes": [],
            "_model_module": "@jupyter-widgets/controls",
            "_model_module_version": "1.5.0",
            "_model_name": "HTMLModel",
            "_view_count": null,
            "_view_module": "@jupyter-widgets/controls",
            "_view_module_version": "1.5.0",
            "_view_name": "HTMLView",
            "description": "",
            "description_tooltip": null,
            "layout": "IPY_MODEL_fb24e1d4f46d4817ae8fd9e1493030d8",
            "placeholder": "​",
            "style": "IPY_MODEL_ab6d125d817342c0b71da4ad072fdd75",
            "value": " 232k/232k [00:00&lt;00:00, 1.81MB/s]"
          }
        },
        "09526639d6d24a699691444f9c766cce": {
          "model_module": "@jupyter-widgets/base",
          "model_name": "LayoutModel",
          "model_module_version": "1.2.0",
          "state": {
            "_model_module": "@jupyter-widgets/base",
            "_model_module_version": "1.2.0",
            "_model_name": "LayoutModel",
            "_view_count": null,
            "_view_module": "@jupyter-widgets/base",
            "_view_module_version": "1.2.0",
            "_view_name": "LayoutView",
            "align_content": null,
            "align_items": null,
            "align_self": null,
            "border": null,
            "bottom": null,
            "display": null,
            "flex": null,
            "flex_flow": null,
            "grid_area": null,
            "grid_auto_columns": null,
            "grid_auto_flow": null,
            "grid_auto_rows": null,
            "grid_column": null,
            "grid_gap": null,
            "grid_row": null,
            "grid_template_areas": null,
            "grid_template_columns": null,
            "grid_template_rows": null,
            "height": null,
            "justify_content": null,
            "justify_items": null,
            "left": null,
            "margin": null,
            "max_height": null,
            "max_width": null,
            "min_height": null,
            "min_width": null,
            "object_fit": null,
            "object_position": null,
            "order": null,
            "overflow": null,
            "overflow_x": null,
            "overflow_y": null,
            "padding": null,
            "right": null,
            "top": null,
            "visibility": null,
            "width": null
          }
        },
        "519203e0cb7844e78bd84f30f570f37e": {
          "model_module": "@jupyter-widgets/base",
          "model_name": "LayoutModel",
          "model_module_version": "1.2.0",
          "state": {
            "_model_module": "@jupyter-widgets/base",
            "_model_module_version": "1.2.0",
            "_model_name": "LayoutModel",
            "_view_count": null,
            "_view_module": "@jupyter-widgets/base",
            "_view_module_version": "1.2.0",
            "_view_name": "LayoutView",
            "align_content": null,
            "align_items": null,
            "align_self": null,
            "border": null,
            "bottom": null,
            "display": null,
            "flex": null,
            "flex_flow": null,
            "grid_area": null,
            "grid_auto_columns": null,
            "grid_auto_flow": null,
            "grid_auto_rows": null,
            "grid_column": null,
            "grid_gap": null,
            "grid_row": null,
            "grid_template_areas": null,
            "grid_template_columns": null,
            "grid_template_rows": null,
            "height": null,
            "justify_content": null,
            "justify_items": null,
            "left": null,
            "margin": null,
            "max_height": null,
            "max_width": null,
            "min_height": null,
            "min_width": null,
            "object_fit": null,
            "object_position": null,
            "order": null,
            "overflow": null,
            "overflow_x": null,
            "overflow_y": null,
            "padding": null,
            "right": null,
            "top": null,
            "visibility": null,
            "width": null
          }
        },
        "1c954c32e8b5413c9fc317d08f814825": {
          "model_module": "@jupyter-widgets/controls",
          "model_name": "DescriptionStyleModel",
          "model_module_version": "1.5.0",
          "state": {
            "_model_module": "@jupyter-widgets/controls",
            "_model_module_version": "1.5.0",
            "_model_name": "DescriptionStyleModel",
            "_view_count": null,
            "_view_module": "@jupyter-widgets/base",
            "_view_module_version": "1.2.0",
            "_view_name": "StyleView",
            "description_width": ""
          }
        },
        "9c4f9523c07441a2a1323906aa3d9191": {
          "model_module": "@jupyter-widgets/base",
          "model_name": "LayoutModel",
          "model_module_version": "1.2.0",
          "state": {
            "_model_module": "@jupyter-widgets/base",
            "_model_module_version": "1.2.0",
            "_model_name": "LayoutModel",
            "_view_count": null,
            "_view_module": "@jupyter-widgets/base",
            "_view_module_version": "1.2.0",
            "_view_name": "LayoutView",
            "align_content": null,
            "align_items": null,
            "align_self": null,
            "border": null,
            "bottom": null,
            "display": null,
            "flex": null,
            "flex_flow": null,
            "grid_area": null,
            "grid_auto_columns": null,
            "grid_auto_flow": null,
            "grid_auto_rows": null,
            "grid_column": null,
            "grid_gap": null,
            "grid_row": null,
            "grid_template_areas": null,
            "grid_template_columns": null,
            "grid_template_rows": null,
            "height": null,
            "justify_content": null,
            "justify_items": null,
            "left": null,
            "margin": null,
            "max_height": null,
            "max_width": null,
            "min_height": null,
            "min_width": null,
            "object_fit": null,
            "object_position": null,
            "order": null,
            "overflow": null,
            "overflow_x": null,
            "overflow_y": null,
            "padding": null,
            "right": null,
            "top": null,
            "visibility": null,
            "width": null
          }
        },
        "1d0197ec747a4d8283274584fdcf1af9": {
          "model_module": "@jupyter-widgets/controls",
          "model_name": "ProgressStyleModel",
          "model_module_version": "1.5.0",
          "state": {
            "_model_module": "@jupyter-widgets/controls",
            "_model_module_version": "1.5.0",
            "_model_name": "ProgressStyleModel",
            "_view_count": null,
            "_view_module": "@jupyter-widgets/base",
            "_view_module_version": "1.2.0",
            "_view_name": "StyleView",
            "bar_color": null,
            "description_width": ""
          }
        },
        "fb24e1d4f46d4817ae8fd9e1493030d8": {
          "model_module": "@jupyter-widgets/base",
          "model_name": "LayoutModel",
          "model_module_version": "1.2.0",
          "state": {
            "_model_module": "@jupyter-widgets/base",
            "_model_module_version": "1.2.0",
            "_model_name": "LayoutModel",
            "_view_count": null,
            "_view_module": "@jupyter-widgets/base",
            "_view_module_version": "1.2.0",
            "_view_name": "LayoutView",
            "align_content": null,
            "align_items": null,
            "align_self": null,
            "border": null,
            "bottom": null,
            "display": null,
            "flex": null,
            "flex_flow": null,
            "grid_area": null,
            "grid_auto_columns": null,
            "grid_auto_flow": null,
            "grid_auto_rows": null,
            "grid_column": null,
            "grid_gap": null,
            "grid_row": null,
            "grid_template_areas": null,
            "grid_template_columns": null,
            "grid_template_rows": null,
            "height": null,
            "justify_content": null,
            "justify_items": null,
            "left": null,
            "margin": null,
            "max_height": null,
            "max_width": null,
            "min_height": null,
            "min_width": null,
            "object_fit": null,
            "object_position": null,
            "order": null,
            "overflow": null,
            "overflow_x": null,
            "overflow_y": null,
            "padding": null,
            "right": null,
            "top": null,
            "visibility": null,
            "width": null
          }
        },
        "ab6d125d817342c0b71da4ad072fdd75": {
          "model_module": "@jupyter-widgets/controls",
          "model_name": "DescriptionStyleModel",
          "model_module_version": "1.5.0",
          "state": {
            "_model_module": "@jupyter-widgets/controls",
            "_model_module_version": "1.5.0",
            "_model_name": "DescriptionStyleModel",
            "_view_count": null,
            "_view_module": "@jupyter-widgets/base",
            "_view_module_version": "1.2.0",
            "_view_name": "StyleView",
            "description_width": ""
          }
        },
        "a42971d6406e4ae6841b4c7ccdc2012a": {
          "model_module": "@jupyter-widgets/controls",
          "model_name": "HBoxModel",
          "model_module_version": "1.5.0",
          "state": {
            "_dom_classes": [],
            "_model_module": "@jupyter-widgets/controls",
            "_model_module_version": "1.5.0",
            "_model_name": "HBoxModel",
            "_view_count": null,
            "_view_module": "@jupyter-widgets/controls",
            "_view_module_version": "1.5.0",
            "_view_name": "HBoxView",
            "box_style": "",
            "children": [
              "IPY_MODEL_c0d6a639acbc4b7c97831dfb4733be39",
              "IPY_MODEL_02af66992be74db299feb86a0d8a0bb4",
              "IPY_MODEL_6cf4e5de33984acea63a2b510936aea0"
            ],
            "layout": "IPY_MODEL_134e8c4e45d740489102aa5b3c32e64b"
          }
        },
        "c0d6a639acbc4b7c97831dfb4733be39": {
          "model_module": "@jupyter-widgets/controls",
          "model_name": "HTMLModel",
          "model_module_version": "1.5.0",
          "state": {
            "_dom_classes": [],
            "_model_module": "@jupyter-widgets/controls",
            "_model_module_version": "1.5.0",
            "_model_name": "HTMLModel",
            "_view_count": null,
            "_view_module": "@jupyter-widgets/controls",
            "_view_module_version": "1.5.0",
            "_view_name": "HTMLView",
            "description": "",
            "description_tooltip": null,
            "layout": "IPY_MODEL_26d287d2926b467faf3771e8282877c0",
            "placeholder": "​",
            "style": "IPY_MODEL_3d81ea483d254cbe96e73c75d2801d46",
            "value": "config.json: 100%"
          }
        },
        "02af66992be74db299feb86a0d8a0bb4": {
          "model_module": "@jupyter-widgets/controls",
          "model_name": "FloatProgressModel",
          "model_module_version": "1.5.0",
          "state": {
            "_dom_classes": [],
            "_model_module": "@jupyter-widgets/controls",
            "_model_module_version": "1.5.0",
            "_model_name": "FloatProgressModel",
            "_view_count": null,
            "_view_module": "@jupyter-widgets/controls",
            "_view_module_version": "1.5.0",
            "_view_name": "ProgressView",
            "bar_style": "success",
            "description": "",
            "description_tooltip": null,
            "layout": "IPY_MODEL_c92905f4bb5944b9a55cc2cb99c79770",
            "max": 533,
            "min": 0,
            "orientation": "horizontal",
            "style": "IPY_MODEL_d87615fce441495e83aba04ae71c181e",
            "value": 533
          }
        },
        "6cf4e5de33984acea63a2b510936aea0": {
          "model_module": "@jupyter-widgets/controls",
          "model_name": "HTMLModel",
          "model_module_version": "1.5.0",
          "state": {
            "_dom_classes": [],
            "_model_module": "@jupyter-widgets/controls",
            "_model_module_version": "1.5.0",
            "_model_name": "HTMLModel",
            "_view_count": null,
            "_view_module": "@jupyter-widgets/controls",
            "_view_module_version": "1.5.0",
            "_view_name": "HTMLView",
            "description": "",
            "description_tooltip": null,
            "layout": "IPY_MODEL_655747013d7d4dce856aa71ba67a920d",
            "placeholder": "​",
            "style": "IPY_MODEL_0ad1023674fe466c90c3381fe4c7babb",
            "value": " 533/533 [00:00&lt;00:00, 5.85kB/s]"
          }
        },
        "134e8c4e45d740489102aa5b3c32e64b": {
          "model_module": "@jupyter-widgets/base",
          "model_name": "LayoutModel",
          "model_module_version": "1.2.0",
          "state": {
            "_model_module": "@jupyter-widgets/base",
            "_model_module_version": "1.2.0",
            "_model_name": "LayoutModel",
            "_view_count": null,
            "_view_module": "@jupyter-widgets/base",
            "_view_module_version": "1.2.0",
            "_view_name": "LayoutView",
            "align_content": null,
            "align_items": null,
            "align_self": null,
            "border": null,
            "bottom": null,
            "display": null,
            "flex": null,
            "flex_flow": null,
            "grid_area": null,
            "grid_auto_columns": null,
            "grid_auto_flow": null,
            "grid_auto_rows": null,
            "grid_column": null,
            "grid_gap": null,
            "grid_row": null,
            "grid_template_areas": null,
            "grid_template_columns": null,
            "grid_template_rows": null,
            "height": null,
            "justify_content": null,
            "justify_items": null,
            "left": null,
            "margin": null,
            "max_height": null,
            "max_width": null,
            "min_height": null,
            "min_width": null,
            "object_fit": null,
            "object_position": null,
            "order": null,
            "overflow": null,
            "overflow_x": null,
            "overflow_y": null,
            "padding": null,
            "right": null,
            "top": null,
            "visibility": null,
            "width": null
          }
        },
        "26d287d2926b467faf3771e8282877c0": {
          "model_module": "@jupyter-widgets/base",
          "model_name": "LayoutModel",
          "model_module_version": "1.2.0",
          "state": {
            "_model_module": "@jupyter-widgets/base",
            "_model_module_version": "1.2.0",
            "_model_name": "LayoutModel",
            "_view_count": null,
            "_view_module": "@jupyter-widgets/base",
            "_view_module_version": "1.2.0",
            "_view_name": "LayoutView",
            "align_content": null,
            "align_items": null,
            "align_self": null,
            "border": null,
            "bottom": null,
            "display": null,
            "flex": null,
            "flex_flow": null,
            "grid_area": null,
            "grid_auto_columns": null,
            "grid_auto_flow": null,
            "grid_auto_rows": null,
            "grid_column": null,
            "grid_gap": null,
            "grid_row": null,
            "grid_template_areas": null,
            "grid_template_columns": null,
            "grid_template_rows": null,
            "height": null,
            "justify_content": null,
            "justify_items": null,
            "left": null,
            "margin": null,
            "max_height": null,
            "max_width": null,
            "min_height": null,
            "min_width": null,
            "object_fit": null,
            "object_position": null,
            "order": null,
            "overflow": null,
            "overflow_x": null,
            "overflow_y": null,
            "padding": null,
            "right": null,
            "top": null,
            "visibility": null,
            "width": null
          }
        },
        "3d81ea483d254cbe96e73c75d2801d46": {
          "model_module": "@jupyter-widgets/controls",
          "model_name": "DescriptionStyleModel",
          "model_module_version": "1.5.0",
          "state": {
            "_model_module": "@jupyter-widgets/controls",
            "_model_module_version": "1.5.0",
            "_model_name": "DescriptionStyleModel",
            "_view_count": null,
            "_view_module": "@jupyter-widgets/base",
            "_view_module_version": "1.2.0",
            "_view_name": "StyleView",
            "description_width": ""
          }
        },
        "c92905f4bb5944b9a55cc2cb99c79770": {
          "model_module": "@jupyter-widgets/base",
          "model_name": "LayoutModel",
          "model_module_version": "1.2.0",
          "state": {
            "_model_module": "@jupyter-widgets/base",
            "_model_module_version": "1.2.0",
            "_model_name": "LayoutModel",
            "_view_count": null,
            "_view_module": "@jupyter-widgets/base",
            "_view_module_version": "1.2.0",
            "_view_name": "LayoutView",
            "align_content": null,
            "align_items": null,
            "align_self": null,
            "border": null,
            "bottom": null,
            "display": null,
            "flex": null,
            "flex_flow": null,
            "grid_area": null,
            "grid_auto_columns": null,
            "grid_auto_flow": null,
            "grid_auto_rows": null,
            "grid_column": null,
            "grid_gap": null,
            "grid_row": null,
            "grid_template_areas": null,
            "grid_template_columns": null,
            "grid_template_rows": null,
            "height": null,
            "justify_content": null,
            "justify_items": null,
            "left": null,
            "margin": null,
            "max_height": null,
            "max_width": null,
            "min_height": null,
            "min_width": null,
            "object_fit": null,
            "object_position": null,
            "order": null,
            "overflow": null,
            "overflow_x": null,
            "overflow_y": null,
            "padding": null,
            "right": null,
            "top": null,
            "visibility": null,
            "width": null
          }
        },
        "d87615fce441495e83aba04ae71c181e": {
          "model_module": "@jupyter-widgets/controls",
          "model_name": "ProgressStyleModel",
          "model_module_version": "1.5.0",
          "state": {
            "_model_module": "@jupyter-widgets/controls",
            "_model_module_version": "1.5.0",
            "_model_name": "ProgressStyleModel",
            "_view_count": null,
            "_view_module": "@jupyter-widgets/base",
            "_view_module_version": "1.2.0",
            "_view_name": "StyleView",
            "bar_color": null,
            "description_width": ""
          }
        },
        "655747013d7d4dce856aa71ba67a920d": {
          "model_module": "@jupyter-widgets/base",
          "model_name": "LayoutModel",
          "model_module_version": "1.2.0",
          "state": {
            "_model_module": "@jupyter-widgets/base",
            "_model_module_version": "1.2.0",
            "_model_name": "LayoutModel",
            "_view_count": null,
            "_view_module": "@jupyter-widgets/base",
            "_view_module_version": "1.2.0",
            "_view_name": "LayoutView",
            "align_content": null,
            "align_items": null,
            "align_self": null,
            "border": null,
            "bottom": null,
            "display": null,
            "flex": null,
            "flex_flow": null,
            "grid_area": null,
            "grid_auto_columns": null,
            "grid_auto_flow": null,
            "grid_auto_rows": null,
            "grid_column": null,
            "grid_gap": null,
            "grid_row": null,
            "grid_template_areas": null,
            "grid_template_columns": null,
            "grid_template_rows": null,
            "height": null,
            "justify_content": null,
            "justify_items": null,
            "left": null,
            "margin": null,
            "max_height": null,
            "max_width": null,
            "min_height": null,
            "min_width": null,
            "object_fit": null,
            "object_position": null,
            "order": null,
            "overflow": null,
            "overflow_x": null,
            "overflow_y": null,
            "padding": null,
            "right": null,
            "top": null,
            "visibility": null,
            "width": null
          }
        },
        "0ad1023674fe466c90c3381fe4c7babb": {
          "model_module": "@jupyter-widgets/controls",
          "model_name": "DescriptionStyleModel",
          "model_module_version": "1.5.0",
          "state": {
            "_model_module": "@jupyter-widgets/controls",
            "_model_module_version": "1.5.0",
            "_model_name": "DescriptionStyleModel",
            "_view_count": null,
            "_view_module": "@jupyter-widgets/base",
            "_view_module_version": "1.2.0",
            "_view_name": "StyleView",
            "description_width": ""
          }
        },
        "e3f7161f0dc44ebda5c28bd66987cb7b": {
          "model_module": "@jupyter-widgets/controls",
          "model_name": "HBoxModel",
          "model_module_version": "1.5.0",
          "state": {
            "_dom_classes": [],
            "_model_module": "@jupyter-widgets/controls",
            "_model_module_version": "1.5.0",
            "_model_name": "HBoxModel",
            "_view_count": null,
            "_view_module": "@jupyter-widgets/controls",
            "_view_module_version": "1.5.0",
            "_view_name": "HBoxView",
            "box_style": "",
            "children": [
              "IPY_MODEL_8bfe91056aeb44d8adaa8587a6d0595a",
              "IPY_MODEL_7a50388cafbf4a56a9b2fdef569764b5",
              "IPY_MODEL_5f46f5fd556545ac896c2b892cb0b982"
            ],
            "layout": "IPY_MODEL_e4a30bd92ff543e3947564e164573d9a"
          }
        },
        "8bfe91056aeb44d8adaa8587a6d0595a": {
          "model_module": "@jupyter-widgets/controls",
          "model_name": "HTMLModel",
          "model_module_version": "1.5.0",
          "state": {
            "_dom_classes": [],
            "_model_module": "@jupyter-widgets/controls",
            "_model_module_version": "1.5.0",
            "_model_name": "HTMLModel",
            "_view_count": null,
            "_view_module": "@jupyter-widgets/controls",
            "_view_module_version": "1.5.0",
            "_view_name": "HTMLView",
            "description": "",
            "description_tooltip": null,
            "layout": "IPY_MODEL_31e2ce2b0ea34a8b806ae631b1f01316",
            "placeholder": "​",
            "style": "IPY_MODEL_bfa0cd8685484257a173a50e5ad30b7a",
            "value": "vocab.txt: 100%"
          }
        },
        "7a50388cafbf4a56a9b2fdef569764b5": {
          "model_module": "@jupyter-widgets/controls",
          "model_name": "FloatProgressModel",
          "model_module_version": "1.5.0",
          "state": {
            "_dom_classes": [],
            "_model_module": "@jupyter-widgets/controls",
            "_model_module_version": "1.5.0",
            "_model_name": "FloatProgressModel",
            "_view_count": null,
            "_view_module": "@jupyter-widgets/controls",
            "_view_module_version": "1.5.0",
            "_view_name": "ProgressView",
            "bar_style": "success",
            "description": "",
            "description_tooltip": null,
            "layout": "IPY_MODEL_2ddf75f9546d4dd7b88a4eaec7bc69c0",
            "max": 226122,
            "min": 0,
            "orientation": "horizontal",
            "style": "IPY_MODEL_c3e47cb15d5a44b6a1f90795b27fd877",
            "value": 226122
          }
        },
        "5f46f5fd556545ac896c2b892cb0b982": {
          "model_module": "@jupyter-widgets/controls",
          "model_name": "HTMLModel",
          "model_module_version": "1.5.0",
          "state": {
            "_dom_classes": [],
            "_model_module": "@jupyter-widgets/controls",
            "_model_module_version": "1.5.0",
            "_model_name": "HTMLModel",
            "_view_count": null,
            "_view_module": "@jupyter-widgets/controls",
            "_view_module_version": "1.5.0",
            "_view_name": "HTMLView",
            "description": "",
            "description_tooltip": null,
            "layout": "IPY_MODEL_11991350cf9343d59ca52d1269d163dd",
            "placeholder": "​",
            "style": "IPY_MODEL_43f6e1e5f7d04e11b1320c32370b5635",
            "value": " 226k/226k [00:00&lt;00:00, 1.99MB/s]"
          }
        },
        "e4a30bd92ff543e3947564e164573d9a": {
          "model_module": "@jupyter-widgets/base",
          "model_name": "LayoutModel",
          "model_module_version": "1.2.0",
          "state": {
            "_model_module": "@jupyter-widgets/base",
            "_model_module_version": "1.2.0",
            "_model_name": "LayoutModel",
            "_view_count": null,
            "_view_module": "@jupyter-widgets/base",
            "_view_module_version": "1.2.0",
            "_view_name": "LayoutView",
            "align_content": null,
            "align_items": null,
            "align_self": null,
            "border": null,
            "bottom": null,
            "display": null,
            "flex": null,
            "flex_flow": null,
            "grid_area": null,
            "grid_auto_columns": null,
            "grid_auto_flow": null,
            "grid_auto_rows": null,
            "grid_column": null,
            "grid_gap": null,
            "grid_row": null,
            "grid_template_areas": null,
            "grid_template_columns": null,
            "grid_template_rows": null,
            "height": null,
            "justify_content": null,
            "justify_items": null,
            "left": null,
            "margin": null,
            "max_height": null,
            "max_width": null,
            "min_height": null,
            "min_width": null,
            "object_fit": null,
            "object_position": null,
            "order": null,
            "overflow": null,
            "overflow_x": null,
            "overflow_y": null,
            "padding": null,
            "right": null,
            "top": null,
            "visibility": null,
            "width": null
          }
        },
        "31e2ce2b0ea34a8b806ae631b1f01316": {
          "model_module": "@jupyter-widgets/base",
          "model_name": "LayoutModel",
          "model_module_version": "1.2.0",
          "state": {
            "_model_module": "@jupyter-widgets/base",
            "_model_module_version": "1.2.0",
            "_model_name": "LayoutModel",
            "_view_count": null,
            "_view_module": "@jupyter-widgets/base",
            "_view_module_version": "1.2.0",
            "_view_name": "LayoutView",
            "align_content": null,
            "align_items": null,
            "align_self": null,
            "border": null,
            "bottom": null,
            "display": null,
            "flex": null,
            "flex_flow": null,
            "grid_area": null,
            "grid_auto_columns": null,
            "grid_auto_flow": null,
            "grid_auto_rows": null,
            "grid_column": null,
            "grid_gap": null,
            "grid_row": null,
            "grid_template_areas": null,
            "grid_template_columns": null,
            "grid_template_rows": null,
            "height": null,
            "justify_content": null,
            "justify_items": null,
            "left": null,
            "margin": null,
            "max_height": null,
            "max_width": null,
            "min_height": null,
            "min_width": null,
            "object_fit": null,
            "object_position": null,
            "order": null,
            "overflow": null,
            "overflow_x": null,
            "overflow_y": null,
            "padding": null,
            "right": null,
            "top": null,
            "visibility": null,
            "width": null
          }
        },
        "bfa0cd8685484257a173a50e5ad30b7a": {
          "model_module": "@jupyter-widgets/controls",
          "model_name": "DescriptionStyleModel",
          "model_module_version": "1.5.0",
          "state": {
            "_model_module": "@jupyter-widgets/controls",
            "_model_module_version": "1.5.0",
            "_model_name": "DescriptionStyleModel",
            "_view_count": null,
            "_view_module": "@jupyter-widgets/base",
            "_view_module_version": "1.2.0",
            "_view_name": "StyleView",
            "description_width": ""
          }
        },
        "2ddf75f9546d4dd7b88a4eaec7bc69c0": {
          "model_module": "@jupyter-widgets/base",
          "model_name": "LayoutModel",
          "model_module_version": "1.2.0",
          "state": {
            "_model_module": "@jupyter-widgets/base",
            "_model_module_version": "1.2.0",
            "_model_name": "LayoutModel",
            "_view_count": null,
            "_view_module": "@jupyter-widgets/base",
            "_view_module_version": "1.2.0",
            "_view_name": "LayoutView",
            "align_content": null,
            "align_items": null,
            "align_self": null,
            "border": null,
            "bottom": null,
            "display": null,
            "flex": null,
            "flex_flow": null,
            "grid_area": null,
            "grid_auto_columns": null,
            "grid_auto_flow": null,
            "grid_auto_rows": null,
            "grid_column": null,
            "grid_gap": null,
            "grid_row": null,
            "grid_template_areas": null,
            "grid_template_columns": null,
            "grid_template_rows": null,
            "height": null,
            "justify_content": null,
            "justify_items": null,
            "left": null,
            "margin": null,
            "max_height": null,
            "max_width": null,
            "min_height": null,
            "min_width": null,
            "object_fit": null,
            "object_position": null,
            "order": null,
            "overflow": null,
            "overflow_x": null,
            "overflow_y": null,
            "padding": null,
            "right": null,
            "top": null,
            "visibility": null,
            "width": null
          }
        },
        "c3e47cb15d5a44b6a1f90795b27fd877": {
          "model_module": "@jupyter-widgets/controls",
          "model_name": "ProgressStyleModel",
          "model_module_version": "1.5.0",
          "state": {
            "_model_module": "@jupyter-widgets/controls",
            "_model_module_version": "1.5.0",
            "_model_name": "ProgressStyleModel",
            "_view_count": null,
            "_view_module": "@jupyter-widgets/base",
            "_view_module_version": "1.2.0",
            "_view_name": "StyleView",
            "bar_color": null,
            "description_width": ""
          }
        },
        "11991350cf9343d59ca52d1269d163dd": {
          "model_module": "@jupyter-widgets/base",
          "model_name": "LayoutModel",
          "model_module_version": "1.2.0",
          "state": {
            "_model_module": "@jupyter-widgets/base",
            "_model_module_version": "1.2.0",
            "_model_name": "LayoutModel",
            "_view_count": null,
            "_view_module": "@jupyter-widgets/base",
            "_view_module_version": "1.2.0",
            "_view_name": "LayoutView",
            "align_content": null,
            "align_items": null,
            "align_self": null,
            "border": null,
            "bottom": null,
            "display": null,
            "flex": null,
            "flex_flow": null,
            "grid_area": null,
            "grid_auto_columns": null,
            "grid_auto_flow": null,
            "grid_auto_rows": null,
            "grid_column": null,
            "grid_gap": null,
            "grid_row": null,
            "grid_template_areas": null,
            "grid_template_columns": null,
            "grid_template_rows": null,
            "height": null,
            "justify_content": null,
            "justify_items": null,
            "left": null,
            "margin": null,
            "max_height": null,
            "max_width": null,
            "min_height": null,
            "min_width": null,
            "object_fit": null,
            "object_position": null,
            "order": null,
            "overflow": null,
            "overflow_x": null,
            "overflow_y": null,
            "padding": null,
            "right": null,
            "top": null,
            "visibility": null,
            "width": null
          }
        },
        "43f6e1e5f7d04e11b1320c32370b5635": {
          "model_module": "@jupyter-widgets/controls",
          "model_name": "DescriptionStyleModel",
          "model_module_version": "1.5.0",
          "state": {
            "_model_module": "@jupyter-widgets/controls",
            "_model_module_version": "1.5.0",
            "_model_name": "DescriptionStyleModel",
            "_view_count": null,
            "_view_module": "@jupyter-widgets/base",
            "_view_module_version": "1.2.0",
            "_view_name": "StyleView",
            "description_width": ""
          }
        },
        "ff4d15d4705c407ab2a22b179b4f81b5": {
          "model_module": "@jupyter-widgets/controls",
          "model_name": "HBoxModel",
          "model_module_version": "1.5.0",
          "state": {
            "_dom_classes": [],
            "_model_module": "@jupyter-widgets/controls",
            "_model_module_version": "1.5.0",
            "_model_name": "HBoxModel",
            "_view_count": null,
            "_view_module": "@jupyter-widgets/controls",
            "_view_module_version": "1.5.0",
            "_view_name": "HBoxView",
            "box_style": "",
            "children": [
              "IPY_MODEL_a6b1355da1ad49ab95781c8170c5c61e",
              "IPY_MODEL_e116bd48e43b46be975570be012bc4b6",
              "IPY_MODEL_22f5aac0eeb84e528e6b2d17611c0061"
            ],
            "layout": "IPY_MODEL_5df2bd69fa4f433a8bf2006243e39759"
          }
        },
        "a6b1355da1ad49ab95781c8170c5c61e": {
          "model_module": "@jupyter-widgets/controls",
          "model_name": "HTMLModel",
          "model_module_version": "1.5.0",
          "state": {
            "_dom_classes": [],
            "_model_module": "@jupyter-widgets/controls",
            "_model_module_version": "1.5.0",
            "_model_name": "HTMLModel",
            "_view_count": null,
            "_view_module": "@jupyter-widgets/controls",
            "_view_module_version": "1.5.0",
            "_view_name": "HTMLView",
            "description": "",
            "description_tooltip": null,
            "layout": "IPY_MODEL_f0bff7f47b30425b954ba69ebb22968c",
            "placeholder": "​",
            "style": "IPY_MODEL_f2e0fa3c15a34697ade6e1c54525eb55",
            "value": "pytorch_model.bin: 100%"
          }
        },
        "e116bd48e43b46be975570be012bc4b6": {
          "model_module": "@jupyter-widgets/controls",
          "model_name": "FloatProgressModel",
          "model_module_version": "1.5.0",
          "state": {
            "_dom_classes": [],
            "_model_module": "@jupyter-widgets/controls",
            "_model_module_version": "1.5.0",
            "_model_name": "FloatProgressModel",
            "_view_count": null,
            "_view_module": "@jupyter-widgets/controls",
            "_view_module_version": "1.5.0",
            "_view_name": "ProgressView",
            "bar_style": "success",
            "description": "",
            "description_tooltip": null,
            "layout": "IPY_MODEL_f822bea622be4cd2bd761a1cbab43669",
            "max": 439101405,
            "min": 0,
            "orientation": "horizontal",
            "style": "IPY_MODEL_7e5290ef5f8a49358aac0ea8bd305a8b",
            "value": 439101405
          }
        },
        "22f5aac0eeb84e528e6b2d17611c0061": {
          "model_module": "@jupyter-widgets/controls",
          "model_name": "HTMLModel",
          "model_module_version": "1.5.0",
          "state": {
            "_dom_classes": [],
            "_model_module": "@jupyter-widgets/controls",
            "_model_module_version": "1.5.0",
            "_model_name": "HTMLModel",
            "_view_count": null,
            "_view_module": "@jupyter-widgets/controls",
            "_view_module_version": "1.5.0",
            "_view_name": "HTMLView",
            "description": "",
            "description_tooltip": null,
            "layout": "IPY_MODEL_a605c39da61a4ff7b3951746e387dddc",
            "placeholder": "​",
            "style": "IPY_MODEL_d2e52aec753949fd9a78bef09dbe1f4a",
            "value": " 439M/439M [00:08&lt;00:00, 87.1MB/s]"
          }
        },
        "5df2bd69fa4f433a8bf2006243e39759": {
          "model_module": "@jupyter-widgets/base",
          "model_name": "LayoutModel",
          "model_module_version": "1.2.0",
          "state": {
            "_model_module": "@jupyter-widgets/base",
            "_model_module_version": "1.2.0",
            "_model_name": "LayoutModel",
            "_view_count": null,
            "_view_module": "@jupyter-widgets/base",
            "_view_module_version": "1.2.0",
            "_view_name": "LayoutView",
            "align_content": null,
            "align_items": null,
            "align_self": null,
            "border": null,
            "bottom": null,
            "display": null,
            "flex": null,
            "flex_flow": null,
            "grid_area": null,
            "grid_auto_columns": null,
            "grid_auto_flow": null,
            "grid_auto_rows": null,
            "grid_column": null,
            "grid_gap": null,
            "grid_row": null,
            "grid_template_areas": null,
            "grid_template_columns": null,
            "grid_template_rows": null,
            "height": null,
            "justify_content": null,
            "justify_items": null,
            "left": null,
            "margin": null,
            "max_height": null,
            "max_width": null,
            "min_height": null,
            "min_width": null,
            "object_fit": null,
            "object_position": null,
            "order": null,
            "overflow": null,
            "overflow_x": null,
            "overflow_y": null,
            "padding": null,
            "right": null,
            "top": null,
            "visibility": null,
            "width": null
          }
        },
        "f0bff7f47b30425b954ba69ebb22968c": {
          "model_module": "@jupyter-widgets/base",
          "model_name": "LayoutModel",
          "model_module_version": "1.2.0",
          "state": {
            "_model_module": "@jupyter-widgets/base",
            "_model_module_version": "1.2.0",
            "_model_name": "LayoutModel",
            "_view_count": null,
            "_view_module": "@jupyter-widgets/base",
            "_view_module_version": "1.2.0",
            "_view_name": "LayoutView",
            "align_content": null,
            "align_items": null,
            "align_self": null,
            "border": null,
            "bottom": null,
            "display": null,
            "flex": null,
            "flex_flow": null,
            "grid_area": null,
            "grid_auto_columns": null,
            "grid_auto_flow": null,
            "grid_auto_rows": null,
            "grid_column": null,
            "grid_gap": null,
            "grid_row": null,
            "grid_template_areas": null,
            "grid_template_columns": null,
            "grid_template_rows": null,
            "height": null,
            "justify_content": null,
            "justify_items": null,
            "left": null,
            "margin": null,
            "max_height": null,
            "max_width": null,
            "min_height": null,
            "min_width": null,
            "object_fit": null,
            "object_position": null,
            "order": null,
            "overflow": null,
            "overflow_x": null,
            "overflow_y": null,
            "padding": null,
            "right": null,
            "top": null,
            "visibility": null,
            "width": null
          }
        },
        "f2e0fa3c15a34697ade6e1c54525eb55": {
          "model_module": "@jupyter-widgets/controls",
          "model_name": "DescriptionStyleModel",
          "model_module_version": "1.5.0",
          "state": {
            "_model_module": "@jupyter-widgets/controls",
            "_model_module_version": "1.5.0",
            "_model_name": "DescriptionStyleModel",
            "_view_count": null,
            "_view_module": "@jupyter-widgets/base",
            "_view_module_version": "1.2.0",
            "_view_name": "StyleView",
            "description_width": ""
          }
        },
        "f822bea622be4cd2bd761a1cbab43669": {
          "model_module": "@jupyter-widgets/base",
          "model_name": "LayoutModel",
          "model_module_version": "1.2.0",
          "state": {
            "_model_module": "@jupyter-widgets/base",
            "_model_module_version": "1.2.0",
            "_model_name": "LayoutModel",
            "_view_count": null,
            "_view_module": "@jupyter-widgets/base",
            "_view_module_version": "1.2.0",
            "_view_name": "LayoutView",
            "align_content": null,
            "align_items": null,
            "align_self": null,
            "border": null,
            "bottom": null,
            "display": null,
            "flex": null,
            "flex_flow": null,
            "grid_area": null,
            "grid_auto_columns": null,
            "grid_auto_flow": null,
            "grid_auto_rows": null,
            "grid_column": null,
            "grid_gap": null,
            "grid_row": null,
            "grid_template_areas": null,
            "grid_template_columns": null,
            "grid_template_rows": null,
            "height": null,
            "justify_content": null,
            "justify_items": null,
            "left": null,
            "margin": null,
            "max_height": null,
            "max_width": null,
            "min_height": null,
            "min_width": null,
            "object_fit": null,
            "object_position": null,
            "order": null,
            "overflow": null,
            "overflow_x": null,
            "overflow_y": null,
            "padding": null,
            "right": null,
            "top": null,
            "visibility": null,
            "width": null
          }
        },
        "7e5290ef5f8a49358aac0ea8bd305a8b": {
          "model_module": "@jupyter-widgets/controls",
          "model_name": "ProgressStyleModel",
          "model_module_version": "1.5.0",
          "state": {
            "_model_module": "@jupyter-widgets/controls",
            "_model_module_version": "1.5.0",
            "_model_name": "ProgressStyleModel",
            "_view_count": null,
            "_view_module": "@jupyter-widgets/base",
            "_view_module_version": "1.2.0",
            "_view_name": "StyleView",
            "bar_color": null,
            "description_width": ""
          }
        },
        "a605c39da61a4ff7b3951746e387dddc": {
          "model_module": "@jupyter-widgets/base",
          "model_name": "LayoutModel",
          "model_module_version": "1.2.0",
          "state": {
            "_model_module": "@jupyter-widgets/base",
            "_model_module_version": "1.2.0",
            "_model_name": "LayoutModel",
            "_view_count": null,
            "_view_module": "@jupyter-widgets/base",
            "_view_module_version": "1.2.0",
            "_view_name": "LayoutView",
            "align_content": null,
            "align_items": null,
            "align_self": null,
            "border": null,
            "bottom": null,
            "display": null,
            "flex": null,
            "flex_flow": null,
            "grid_area": null,
            "grid_auto_columns": null,
            "grid_auto_flow": null,
            "grid_auto_rows": null,
            "grid_column": null,
            "grid_gap": null,
            "grid_row": null,
            "grid_template_areas": null,
            "grid_template_columns": null,
            "grid_template_rows": null,
            "height": null,
            "justify_content": null,
            "justify_items": null,
            "left": null,
            "margin": null,
            "max_height": null,
            "max_width": null,
            "min_height": null,
            "min_width": null,
            "object_fit": null,
            "object_position": null,
            "order": null,
            "overflow": null,
            "overflow_x": null,
            "overflow_y": null,
            "padding": null,
            "right": null,
            "top": null,
            "visibility": null,
            "width": null
          }
        },
        "d2e52aec753949fd9a78bef09dbe1f4a": {
          "model_module": "@jupyter-widgets/controls",
          "model_name": "DescriptionStyleModel",
          "model_module_version": "1.5.0",
          "state": {
            "_model_module": "@jupyter-widgets/controls",
            "_model_module_version": "1.5.0",
            "_model_name": "DescriptionStyleModel",
            "_view_count": null,
            "_view_module": "@jupyter-widgets/base",
            "_view_module_version": "1.2.0",
            "_view_name": "StyleView",
            "description_width": ""
          }
        },
        "9099945c5c744a85aaf63959dc4cb8e5": {
          "model_module": "@jupyter-widgets/controls",
          "model_name": "HBoxModel",
          "model_module_version": "1.5.0",
          "state": {
            "_dom_classes": [],
            "_model_module": "@jupyter-widgets/controls",
            "_model_module_version": "1.5.0",
            "_model_name": "HBoxModel",
            "_view_count": null,
            "_view_module": "@jupyter-widgets/controls",
            "_view_module_version": "1.5.0",
            "_view_name": "HBoxView",
            "box_style": "",
            "children": [
              "IPY_MODEL_d8fc1b811ccd49198da1c965c2fc2fd4",
              "IPY_MODEL_6ddf2b3092a34e058c78f16df477802d",
              "IPY_MODEL_f679a929863e4885bc806bc41dc23737"
            ],
            "layout": "IPY_MODEL_a3250a2011054cb9806c379a833bbf47"
          }
        },
        "d8fc1b811ccd49198da1c965c2fc2fd4": {
          "model_module": "@jupyter-widgets/controls",
          "model_name": "HTMLModel",
          "model_module_version": "1.5.0",
          "state": {
            "_dom_classes": [],
            "_model_module": "@jupyter-widgets/controls",
            "_model_module_version": "1.5.0",
            "_model_name": "HTMLModel",
            "_view_count": null,
            "_view_module": "@jupyter-widgets/controls",
            "_view_module_version": "1.5.0",
            "_view_name": "HTMLView",
            "description": "",
            "description_tooltip": null,
            "layout": "IPY_MODEL_06e9a774f1134ce5ab3bcc94e9324e25",
            "placeholder": "​",
            "style": "IPY_MODEL_4a01b59eb80b422eac5057f20fe04141",
            "value": "model.safetensors: 100%"
          }
        },
        "6ddf2b3092a34e058c78f16df477802d": {
          "model_module": "@jupyter-widgets/controls",
          "model_name": "FloatProgressModel",
          "model_module_version": "1.5.0",
          "state": {
            "_dom_classes": [],
            "_model_module": "@jupyter-widgets/controls",
            "_model_module_version": "1.5.0",
            "_model_name": "FloatProgressModel",
            "_view_count": null,
            "_view_module": "@jupyter-widgets/controls",
            "_view_module_version": "1.5.0",
            "_view_name": "ProgressView",
            "bar_style": "success",
            "description": "",
            "description_tooltip": null,
            "layout": "IPY_MODEL_54935156d1ba45b68c78f5ea01c5989d",
            "max": 439044180,
            "min": 0,
            "orientation": "horizontal",
            "style": "IPY_MODEL_9f161490fc5d4b619ae3bd590cdc598c",
            "value": 439044180
          }
        },
        "f679a929863e4885bc806bc41dc23737": {
          "model_module": "@jupyter-widgets/controls",
          "model_name": "HTMLModel",
          "model_module_version": "1.5.0",
          "state": {
            "_dom_classes": [],
            "_model_module": "@jupyter-widgets/controls",
            "_model_module_version": "1.5.0",
            "_model_name": "HTMLModel",
            "_view_count": null,
            "_view_module": "@jupyter-widgets/controls",
            "_view_module_version": "1.5.0",
            "_view_name": "HTMLView",
            "description": "",
            "description_tooltip": null,
            "layout": "IPY_MODEL_bac973c3796f468db5a32464a023c0e6",
            "placeholder": "​",
            "style": "IPY_MODEL_290e3b12289244d385ba557fbbe36179",
            "value": " 439M/439M [00:04&lt;00:00, 90.0MB/s]"
          }
        },
        "a3250a2011054cb9806c379a833bbf47": {
          "model_module": "@jupyter-widgets/base",
          "model_name": "LayoutModel",
          "model_module_version": "1.2.0",
          "state": {
            "_model_module": "@jupyter-widgets/base",
            "_model_module_version": "1.2.0",
            "_model_name": "LayoutModel",
            "_view_count": null,
            "_view_module": "@jupyter-widgets/base",
            "_view_module_version": "1.2.0",
            "_view_name": "LayoutView",
            "align_content": null,
            "align_items": null,
            "align_self": null,
            "border": null,
            "bottom": null,
            "display": null,
            "flex": null,
            "flex_flow": null,
            "grid_area": null,
            "grid_auto_columns": null,
            "grid_auto_flow": null,
            "grid_auto_rows": null,
            "grid_column": null,
            "grid_gap": null,
            "grid_row": null,
            "grid_template_areas": null,
            "grid_template_columns": null,
            "grid_template_rows": null,
            "height": null,
            "justify_content": null,
            "justify_items": null,
            "left": null,
            "margin": null,
            "max_height": null,
            "max_width": null,
            "min_height": null,
            "min_width": null,
            "object_fit": null,
            "object_position": null,
            "order": null,
            "overflow": null,
            "overflow_x": null,
            "overflow_y": null,
            "padding": null,
            "right": null,
            "top": null,
            "visibility": null,
            "width": null
          }
        },
        "06e9a774f1134ce5ab3bcc94e9324e25": {
          "model_module": "@jupyter-widgets/base",
          "model_name": "LayoutModel",
          "model_module_version": "1.2.0",
          "state": {
            "_model_module": "@jupyter-widgets/base",
            "_model_module_version": "1.2.0",
            "_model_name": "LayoutModel",
            "_view_count": null,
            "_view_module": "@jupyter-widgets/base",
            "_view_module_version": "1.2.0",
            "_view_name": "LayoutView",
            "align_content": null,
            "align_items": null,
            "align_self": null,
            "border": null,
            "bottom": null,
            "display": null,
            "flex": null,
            "flex_flow": null,
            "grid_area": null,
            "grid_auto_columns": null,
            "grid_auto_flow": null,
            "grid_auto_rows": null,
            "grid_column": null,
            "grid_gap": null,
            "grid_row": null,
            "grid_template_areas": null,
            "grid_template_columns": null,
            "grid_template_rows": null,
            "height": null,
            "justify_content": null,
            "justify_items": null,
            "left": null,
            "margin": null,
            "max_height": null,
            "max_width": null,
            "min_height": null,
            "min_width": null,
            "object_fit": null,
            "object_position": null,
            "order": null,
            "overflow": null,
            "overflow_x": null,
            "overflow_y": null,
            "padding": null,
            "right": null,
            "top": null,
            "visibility": null,
            "width": null
          }
        },
        "4a01b59eb80b422eac5057f20fe04141": {
          "model_module": "@jupyter-widgets/controls",
          "model_name": "DescriptionStyleModel",
          "model_module_version": "1.5.0",
          "state": {
            "_model_module": "@jupyter-widgets/controls",
            "_model_module_version": "1.5.0",
            "_model_name": "DescriptionStyleModel",
            "_view_count": null,
            "_view_module": "@jupyter-widgets/base",
            "_view_module_version": "1.2.0",
            "_view_name": "StyleView",
            "description_width": ""
          }
        },
        "54935156d1ba45b68c78f5ea01c5989d": {
          "model_module": "@jupyter-widgets/base",
          "model_name": "LayoutModel",
          "model_module_version": "1.2.0",
          "state": {
            "_model_module": "@jupyter-widgets/base",
            "_model_module_version": "1.2.0",
            "_model_name": "LayoutModel",
            "_view_count": null,
            "_view_module": "@jupyter-widgets/base",
            "_view_module_version": "1.2.0",
            "_view_name": "LayoutView",
            "align_content": null,
            "align_items": null,
            "align_self": null,
            "border": null,
            "bottom": null,
            "display": null,
            "flex": null,
            "flex_flow": null,
            "grid_area": null,
            "grid_auto_columns": null,
            "grid_auto_flow": null,
            "grid_auto_rows": null,
            "grid_column": null,
            "grid_gap": null,
            "grid_row": null,
            "grid_template_areas": null,
            "grid_template_columns": null,
            "grid_template_rows": null,
            "height": null,
            "justify_content": null,
            "justify_items": null,
            "left": null,
            "margin": null,
            "max_height": null,
            "max_width": null,
            "min_height": null,
            "min_width": null,
            "object_fit": null,
            "object_position": null,
            "order": null,
            "overflow": null,
            "overflow_x": null,
            "overflow_y": null,
            "padding": null,
            "right": null,
            "top": null,
            "visibility": null,
            "width": null
          }
        },
        "9f161490fc5d4b619ae3bd590cdc598c": {
          "model_module": "@jupyter-widgets/controls",
          "model_name": "ProgressStyleModel",
          "model_module_version": "1.5.0",
          "state": {
            "_model_module": "@jupyter-widgets/controls",
            "_model_module_version": "1.5.0",
            "_model_name": "ProgressStyleModel",
            "_view_count": null,
            "_view_module": "@jupyter-widgets/base",
            "_view_module_version": "1.2.0",
            "_view_name": "StyleView",
            "bar_color": null,
            "description_width": ""
          }
        },
        "bac973c3796f468db5a32464a023c0e6": {
          "model_module": "@jupyter-widgets/base",
          "model_name": "LayoutModel",
          "model_module_version": "1.2.0",
          "state": {
            "_model_module": "@jupyter-widgets/base",
            "_model_module_version": "1.2.0",
            "_model_name": "LayoutModel",
            "_view_count": null,
            "_view_module": "@jupyter-widgets/base",
            "_view_module_version": "1.2.0",
            "_view_name": "LayoutView",
            "align_content": null,
            "align_items": null,
            "align_self": null,
            "border": null,
            "bottom": null,
            "display": null,
            "flex": null,
            "flex_flow": null,
            "grid_area": null,
            "grid_auto_columns": null,
            "grid_auto_flow": null,
            "grid_auto_rows": null,
            "grid_column": null,
            "grid_gap": null,
            "grid_row": null,
            "grid_template_areas": null,
            "grid_template_columns": null,
            "grid_template_rows": null,
            "height": null,
            "justify_content": null,
            "justify_items": null,
            "left": null,
            "margin": null,
            "max_height": null,
            "max_width": null,
            "min_height": null,
            "min_width": null,
            "object_fit": null,
            "object_position": null,
            "order": null,
            "overflow": null,
            "overflow_x": null,
            "overflow_y": null,
            "padding": null,
            "right": null,
            "top": null,
            "visibility": null,
            "width": null
          }
        },
        "290e3b12289244d385ba557fbbe36179": {
          "model_module": "@jupyter-widgets/controls",
          "model_name": "DescriptionStyleModel",
          "model_module_version": "1.5.0",
          "state": {
            "_model_module": "@jupyter-widgets/controls",
            "_model_module_version": "1.5.0",
            "_model_name": "DescriptionStyleModel",
            "_view_count": null,
            "_view_module": "@jupyter-widgets/base",
            "_view_module_version": "1.2.0",
            "_view_name": "StyleView",
            "description_width": ""
          }
        }
      }
    }
  },
  "cells": [
    {
      "cell_type": "markdown",
      "metadata": {
        "id": "view-in-github",
        "colab_type": "text"
      },
      "source": [
        "<a href=\"https://colab.research.google.com/github/zaina-ali/-bigquery-sql-quiz/blob/main/Another_copy_of_cloud_main.ipynb\" target=\"_parent\"><img src=\"https://colab.research.google.com/assets/colab-badge.svg\" alt=\"Open In Colab\"/></a>"
      ]
    },
    {
      "cell_type": "code",
      "source": [
        "!pip install langdetect\n",
        "from langdetect import detect\n"
      ],
      "metadata": {
        "colab": {
          "base_uri": "https://localhost:8080/"
        },
        "id": "n3Lrx_QzalaR",
        "outputId": "c61d7bdb-b128-4359-9e9a-607bb947d336"
      },
      "execution_count": null,
      "outputs": [
        {
          "output_type": "stream",
          "name": "stdout",
          "text": [
            "Requirement already satisfied: langdetect in /usr/local/lib/python3.11/dist-packages (1.0.9)\n",
            "Requirement already satisfied: six in /usr/local/lib/python3.11/dist-packages (from langdetect) (1.17.0)\n"
          ]
        }
      ]
    },
    {
      "cell_type": "code",
      "source": [
        "!pip install firebase-admin  # Run this once (if not installed)"
      ],
      "metadata": {
        "colab": {
          "base_uri": "https://localhost:8080/"
        },
        "id": "cKuk5GPKSnoM",
        "outputId": "531fea60-831b-4f06-ead5-caffa22b96eb"
      },
      "execution_count": null,
      "outputs": [
        {
          "output_type": "stream",
          "name": "stdout",
          "text": [
            "Requirement already satisfied: firebase-admin in /usr/local/lib/python3.11/dist-packages (6.8.0)\n",
            "Requirement already satisfied: cachecontrol>=0.12.14 in /usr/local/lib/python3.11/dist-packages (from firebase-admin) (0.14.3)\n",
            "Requirement already satisfied: google-api-python-client>=1.7.8 in /usr/local/lib/python3.11/dist-packages (from firebase-admin) (2.169.0)\n",
            "Requirement already satisfied: google-cloud-storage>=1.37.1 in /usr/local/lib/python3.11/dist-packages (from firebase-admin) (2.19.0)\n",
            "Requirement already satisfied: pyjwt>=2.5.0 in /usr/local/lib/python3.11/dist-packages (from pyjwt[crypto]>=2.5.0->firebase-admin) (2.10.1)\n",
            "Requirement already satisfied: google-api-core<3.0.0dev,>=1.22.1 in /usr/local/lib/python3.11/dist-packages (from google-api-core[grpc]<3.0.0dev,>=1.22.1; platform_python_implementation != \"PyPy\"->firebase-admin) (2.24.2)\n",
            "Requirement already satisfied: google-cloud-firestore>=2.19.0 in /usr/local/lib/python3.11/dist-packages (from firebase-admin) (2.20.2)\n",
            "Requirement already satisfied: requests>=2.16.0 in /usr/local/lib/python3.11/dist-packages (from cachecontrol>=0.12.14->firebase-admin) (2.32.3)\n",
            "Requirement already satisfied: msgpack<2.0.0,>=0.5.2 in /usr/local/lib/python3.11/dist-packages (from cachecontrol>=0.12.14->firebase-admin) (1.1.0)\n",
            "Requirement already satisfied: googleapis-common-protos<2.0.0,>=1.56.2 in /usr/local/lib/python3.11/dist-packages (from google-api-core<3.0.0dev,>=1.22.1->google-api-core[grpc]<3.0.0dev,>=1.22.1; platform_python_implementation != \"PyPy\"->firebase-admin) (1.70.0)\n",
            "Requirement already satisfied: protobuf!=3.20.0,!=3.20.1,!=4.21.0,!=4.21.1,!=4.21.2,!=4.21.3,!=4.21.4,!=4.21.5,<7.0.0,>=3.19.5 in /usr/local/lib/python3.11/dist-packages (from google-api-core<3.0.0dev,>=1.22.1->google-api-core[grpc]<3.0.0dev,>=1.22.1; platform_python_implementation != \"PyPy\"->firebase-admin) (5.29.4)\n",
            "Requirement already satisfied: proto-plus<2.0.0,>=1.22.3 in /usr/local/lib/python3.11/dist-packages (from google-api-core<3.0.0dev,>=1.22.1->google-api-core[grpc]<3.0.0dev,>=1.22.1; platform_python_implementation != \"PyPy\"->firebase-admin) (1.26.1)\n",
            "Requirement already satisfied: google-auth<3.0.0,>=2.14.1 in /usr/local/lib/python3.11/dist-packages (from google-api-core<3.0.0dev,>=1.22.1->google-api-core[grpc]<3.0.0dev,>=1.22.1; platform_python_implementation != \"PyPy\"->firebase-admin) (2.38.0)\n",
            "Requirement already satisfied: grpcio<2.0dev,>=1.33.2 in /usr/local/lib/python3.11/dist-packages (from google-api-core[grpc]<3.0.0dev,>=1.22.1; platform_python_implementation != \"PyPy\"->firebase-admin) (1.71.0)\n",
            "Requirement already satisfied: grpcio-status<2.0.dev0,>=1.33.2 in /usr/local/lib/python3.11/dist-packages (from google-api-core[grpc]<3.0.0dev,>=1.22.1; platform_python_implementation != \"PyPy\"->firebase-admin) (1.71.0)\n",
            "Requirement already satisfied: httplib2<1.0.0,>=0.19.0 in /usr/local/lib/python3.11/dist-packages (from google-api-python-client>=1.7.8->firebase-admin) (0.22.0)\n",
            "Requirement already satisfied: google-auth-httplib2<1.0.0,>=0.2.0 in /usr/local/lib/python3.11/dist-packages (from google-api-python-client>=1.7.8->firebase-admin) (0.2.0)\n",
            "Requirement already satisfied: uritemplate<5,>=3.0.1 in /usr/local/lib/python3.11/dist-packages (from google-api-python-client>=1.7.8->firebase-admin) (4.1.1)\n",
            "Requirement already satisfied: google-cloud-core<3.0.0,>=1.4.1 in /usr/local/lib/python3.11/dist-packages (from google-cloud-firestore>=2.19.0->firebase-admin) (2.4.3)\n",
            "Requirement already satisfied: google-resumable-media>=2.7.2 in /usr/local/lib/python3.11/dist-packages (from google-cloud-storage>=1.37.1->firebase-admin) (2.7.2)\n",
            "Requirement already satisfied: google-crc32c<2.0dev,>=1.0 in /usr/local/lib/python3.11/dist-packages (from google-cloud-storage>=1.37.1->firebase-admin) (1.7.1)\n",
            "Requirement already satisfied: cryptography>=3.4.0 in /usr/local/lib/python3.11/dist-packages (from pyjwt[crypto]>=2.5.0->firebase-admin) (43.0.3)\n",
            "Requirement already satisfied: cffi>=1.12 in /usr/local/lib/python3.11/dist-packages (from cryptography>=3.4.0->pyjwt[crypto]>=2.5.0->firebase-admin) (1.17.1)\n",
            "Requirement already satisfied: cachetools<6.0,>=2.0.0 in /usr/local/lib/python3.11/dist-packages (from google-auth<3.0.0,>=2.14.1->google-api-core<3.0.0dev,>=1.22.1->google-api-core[grpc]<3.0.0dev,>=1.22.1; platform_python_implementation != \"PyPy\"->firebase-admin) (5.5.2)\n",
            "Requirement already satisfied: pyasn1-modules>=0.2.1 in /usr/local/lib/python3.11/dist-packages (from google-auth<3.0.0,>=2.14.1->google-api-core<3.0.0dev,>=1.22.1->google-api-core[grpc]<3.0.0dev,>=1.22.1; platform_python_implementation != \"PyPy\"->firebase-admin) (0.4.2)\n",
            "Requirement already satisfied: rsa<5,>=3.1.4 in /usr/local/lib/python3.11/dist-packages (from google-auth<3.0.0,>=2.14.1->google-api-core<3.0.0dev,>=1.22.1->google-api-core[grpc]<3.0.0dev,>=1.22.1; platform_python_implementation != \"PyPy\"->firebase-admin) (4.9.1)\n",
            "Requirement already satisfied: pyparsing!=3.0.0,!=3.0.1,!=3.0.2,!=3.0.3,<4,>=2.4.2 in /usr/local/lib/python3.11/dist-packages (from httplib2<1.0.0,>=0.19.0->google-api-python-client>=1.7.8->firebase-admin) (3.2.3)\n",
            "Requirement already satisfied: charset-normalizer<4,>=2 in /usr/local/lib/python3.11/dist-packages (from requests>=2.16.0->cachecontrol>=0.12.14->firebase-admin) (3.4.2)\n",
            "Requirement already satisfied: idna<4,>=2.5 in /usr/local/lib/python3.11/dist-packages (from requests>=2.16.0->cachecontrol>=0.12.14->firebase-admin) (3.10)\n",
            "Requirement already satisfied: urllib3<3,>=1.21.1 in /usr/local/lib/python3.11/dist-packages (from requests>=2.16.0->cachecontrol>=0.12.14->firebase-admin) (2.4.0)\n",
            "Requirement already satisfied: certifi>=2017.4.17 in /usr/local/lib/python3.11/dist-packages (from requests>=2.16.0->cachecontrol>=0.12.14->firebase-admin) (2025.4.26)\n",
            "Requirement already satisfied: pycparser in /usr/local/lib/python3.11/dist-packages (from cffi>=1.12->cryptography>=3.4.0->pyjwt[crypto]>=2.5.0->firebase-admin) (2.22)\n",
            "Requirement already satisfied: pyasn1<0.7.0,>=0.6.1 in /usr/local/lib/python3.11/dist-packages (from pyasn1-modules>=0.2.1->google-auth<3.0.0,>=2.14.1->google-api-core<3.0.0dev,>=1.22.1->google-api-core[grpc]<3.0.0dev,>=1.22.1; platform_python_implementation != \"PyPy\"->firebase-admin) (0.6.1)\n"
          ]
        }
      ]
    },
    {
      "cell_type": "code",
      "source": [
        "import firebase_admin\n",
        "from firebase_admin import credentials, firestore, storage\n",
        "\n",
        "# Initialize Firebase (replace with your service account path)\n",
        "cred = credentials.Certificate(\"sentimentm.json\")  # Download from Firebase Console\n",
        "firebase_admin.initialize_app(cred, {\n",
        "    'storageBucket': \"ssentiment-708b8.appspot.com\"  # Find this in Firebase → Storage → Files\n",
        "})\n",
        "\n",
        "# Get Firestore and Storage instances\n",
        "db = firestore.client()\n",
        "bucket = storage.bucket()"
      ],
      "metadata": {
        "id": "FIiz8xObSwNv"
      },
      "execution_count": null,
      "outputs": []
    },
    {
      "cell_type": "code",
      "source": [
        "import requests\n",
        "import time\n",
        "from getpass import getpass\n",
        "import requests\n",
        "import time\n",
        "\n",
        "API_KEY = getpass('Enter your NewsAPI key: ')\n",
        "QUERY = \"bitcoin\"\n",
        "PAGE_SIZE = 100  # max articles per page\n",
        "MAX_ARTICLES = 299\n",
        "\n",
        "all_articles = []\n",
        "page = 1\n",
        "\n",
        "# First request to get totalResults\n",
        "url = f\"https://newsapi.org/v2/everything?q={QUERY}&pageSize={PAGE_SIZE}&page={page}&apiKey={API_KEY}\"\n",
        "response = requests.get(url)\n",
        "data = response.json()\n",
        "\n",
        "total_results = data.get(\"totalResults\", 0)\n",
        "print(f\"Total articles available: {total_results}\")\n",
        "\n",
        "# Adjust max articles to the minimum of requested or available\n",
        "max_to_fetch = min(MAX_ARTICLES, total_results)\n",
        "\n",
        "while len(all_articles) < max_to_fetch:\n",
        "    url = f\"https://newsapi.org/v2/everything?q={QUERY}&pageSize={PAGE_SIZE}&page={page}&apiKey={API_KEY}\"\n",
        "    response = requests.get(url)\n",
        "    data = response.json()\n",
        "\n",
        "    articles = data.get(\"articles\", [])\n",
        "    if not articles:\n",
        "        break  # no more articles\n",
        "\n",
        "    all_articles.extend(articles)\n",
        "    print(f\"Fetched {len(all_articles)} articles so far...\")\n",
        "\n",
        "    if len(all_articles) >= max_to_fetch:\n",
        "        break\n",
        "\n",
        "    page += 1\n",
        "    time.sleep(1)  # polite delay to avoid hitting API rate limits\n",
        "\n",
        "print(f\"Total articles fetched: {len(all_articles)}\")"
      ],
      "metadata": {
        "colab": {
          "base_uri": "https://localhost:8080/"
        },
        "id": "3m2bEE77wyD1",
        "outputId": "22569248-5f11-4526-b999-4786025afb08"
      },
      "execution_count": null,
      "outputs": [
        {
          "output_type": "stream",
          "name": "stdout",
          "text": [
            "Enter your NewsAPI key: ··········\n",
            "Total articles available: 12129\n",
            "Fetched 99 articles so far...\n",
            "Total articles fetched: 99\n"
          ]
        }
      ]
    },
    {
      "cell_type": "code",
      "source": [
        "from pyspark.sql import SparkSession\n",
        "\n",
        "# Initialize SparkSession if not already\n",
        "spark = SparkSession.builder.appName(\"news_sentiment_analysis\").getOrCreate()\n",
        "\n",
        "# Convert list of dicts to Spark DataFrame\n",
        "combined_df = spark.createDataFrame(all_articles)\n",
        "\n",
        "# Now you can use combined_df.show(), combined_df.columns, etc.\n",
        "combined_df.show(10, truncate=False)"
      ],
      "metadata": {
        "colab": {
          "base_uri": "https://localhost:8080/"
        },
        "id": "W3HnjkfJxaLl",
        "outputId": "12f04919-e015-4282-bcef-73d16552e261"
      },
      "execution_count": null,
      "outputs": [
        {
          "output_type": "stream",
          "name": "stdout",
          "text": [
            "+------------------+--------------------------------------------------------------------------------------------------------------------------------------------------------------------------------------------------------------------------+--------------------------------------------------------------------------------------------------------------------------------------------------------------------------------------------------------------------------------------------------------------------+--------------------+--------------------------------------------------+-------------------------------------------------------------------------------------------------------+-----------------------------------------------------------------------------------------------------------------------------+---------------------------------------------------------------------------------------------------------------------------------------------------------------------------------------------+\n",
            "|author            |content                                                                                                                                                                                                                   |description                                                                                                                                                                                                                                                         |publishedAt         |source                                            |title                                                                                                  |url                                                                                                                          |urlToImage                                                                                                                                                                                   |\n",
            "+------------------+--------------------------------------------------------------------------------------------------------------------------------------------------------------------------------------------------------------------------+--------------------------------------------------------------------------------------------------------------------------------------------------------------------------------------------------------------------------------------------------------------------+--------------------+--------------------------------------------------+-------------------------------------------------------------------------------------------------------+-----------------------------------------------------------------------------------------------------------------------------+---------------------------------------------------------------------------------------------------------------------------------------------------------------------------------------------+\n",
            "|Lucas Ropek       |A Massachusetts teenager has pled guilty to a number of hacking crimes, including his role in the penetration of a cloud company with data on tens of millions of children, the government says.\\r\\nOn We… [+2678 chars]  |A company with the personal information of tens of millions of children was breached last year.                                                                                                                                                                     |2025-05-21T18:53:36Z|{name -> Gizmodo.com, id -> NULL}                 |19-Year-Old to Plead Guilty to Hacking Charges After Data Breach of Millions of Schoolchildren         |https://gizmodo.com/19-year-old-to-plead-guilty-to-hacking-charges-after-data-breach-of-millions-of-schoolchildren-2000605540|https://gizmodo.com/app/uploads/2022/03/17144a5c640c20e7a04ffa123ce0fd2a.jpg                                                                                                                 |\n",
            "|Brian McGleenon   |Bitcoin (BTC-USD) traded relatively flat on Thursday, priced just above $102,200 (£76,989) down around 1% on the day as institutional investors resumed allocations into US-based spot bitcoin exchange… [+2465 chars]    |Bitcoin traded relatively flat on Thursday as institutional investors resumed allocations into US-based spot bitcoin exchange-traded funds on Wednesday.                                                                                                            |2025-05-15T08:39:52Z|{name -> Yahoo Entertainment, id -> NULL}         |Bitcoin price holds above $102,000 as BlackRock leads fund inflows                                     |https://uk.finance.yahoo.com/news/bitcoin-price-blackrock-fund-inflows-083952678.html                                        |https://s.yimg.com/ny/api/res/1.2/VccZ29AP5EbMUUA1Bt5b8A--/YXBwaWQ9aGlnaGxhbmRlcjt3PTEyMDA7aD03Njk-/https://s.yimg.com/os/creatr-uploaded-images/2024-03/1a844b70-e77d-11ee-afed-082fc5f5ad1b|\n",
            "|Reed Alexander    |Jamie DimonTom Williams/CQ-Roll Call, Inc via Getty Images\\r\\n<ul><li>JPMorgan CEO Jamie Dimon addressed a range of topics at the firm's Investor Day meeting on Monday.</li><li>He said the bank will al… [+3395 chars]  |The JPMorgan CEO said the bank will allow investors to buy bitcoin while warning against stagflation and sounding a hopeful note on regulations.                                                                                                                    |2025-05-19T19:35:06Z|{name -> Business Insider, id -> business-insider}|Jamie Dimon opens the door to bitcoin, warns against stagflation in wide-ranging remarks to investors  |https://www.businessinsider.com/jamie-dimon-bitcoin-stagflation-regulation-trum-investor-day-remarks-2025-5                  |https://i.insider.com/682b87e3c6ad288d1481573e?width=1200&format=jpeg                                                                                                                        |\n",
            "|msmash            |I think there's a world market for about five computers.\\r\\n-- attr. Thomas J. Watson (Chairman of the Board, IBM), 1943                                                                                                  |The head of the Swiss National Bank said on Friday that cryptocurrencies failed to meet the institution's currency reserve standards, rebuffing calls by crypto advocates that it hold bitcoin as a hedge against growing global economic risks. From a report: Cry…|2025-04-25T18:45:00Z|{name -> Slashdot.org, id -> NULL}                |Swiss National Bank Chairman Rebuffs Bitcoin as Reserve Asset                                          |https://slashdot.org/story/25/04/25/1818257/swiss-national-bank-chairman-rebuffs-bitcoin-as-reserve-asset                    |https://a.fsdn.com/sd/topics/bitcoin_64.png                                                                                                                                                  |\n",
            "|Murtuza J Merchant|Benzinga and Yahoo Finance LLC may earn commission or revenue on some items through the links below.\\r\\nEl Salvador's bold foray into Bitcoin (CRYPTO: BTC) has entered a new chapter of profitability.\\r\\n… [+1958 chars]|El Salvador's bold foray into Bitcoin (CRYPTO: BTC) has entered a new chapter of profitability. As of May 19, the country's BTC portfolio stands at...                                                                                                              |2025-05-20T03:31:34Z|{name -> Yahoo Entertainment, id -> NULL}         |El Salvador's Bitcoin Holdings Show $357 Million In Unrealized Profit As Bitcoin Closes At Record Highs|https://finance.yahoo.com/news/el-salvadors-bitcoin-holdings-show-033134288.html                                             |https://media.zenfs.com/en/benzinga_79/adbae4051492d8a88035da448858fe44                                                                                                                      |\n",
            "|Anushka Basu      |Bitcoin is back in focus as geopolitical tensions once again intersect with the crypto market.\\r\\nOn May 6, U.S. President Donald Trump met with newly elected Canadian Prime Minister Mark Carney for a … [+1513 chars]  |Canadian PM Mark Carney goes to White House as Trump challenges $200B subsidy; Bitcoin edges up on trade hope.                                                                                                                                                      |2025-05-06T16:22:39Z|{name -> TheStreet, id -> NULL}                   |Markets reel after Trump resumes tariff talks with Canada                                              |https://www.thestreet.com/crypto/policy/trump-resumes-trade-talks-with-canadian-prime-minister-                              |https://media.zenfs.com/en/thestreet_881/f39d448dc4ef777c6cabba98d26f459e                                                                                                                    |\n",
            "|Andrew R. Chow    |JPMorgan Chases CEO Jamie Dimon has long been one of Bitcoins most vicious skeptics. In 2017, he said he would fire any employee who traded Bitcoin for being stupid, and called it a fraud. Last year,… [+3599 chars]    |One of Wall Street's biggest crypto skeptics will now allow JPMorgan Chase's clients to buy Bitcoin.                                                                                                                                                                |2025-05-20T18:55:24Z|{name -> Time, id -> time}                        |The Significance of Jamie Dimon’s Reluctant Bitcoin Surrender                                          |https://time.com/7287164/jpmorgan-chase-bitcoin-jamie-dimon/                                                                 |https://api.time.com/wp-content/uploads/2025/05/GettyImages-2214559208.jpg?quality=85&crop=0px%2C0px%2C1024px%2C536px&resize=1200%2C628&strip                                                |\n",
            "|BeauHD            |The transaction, reported on April 28, saw funds moved from a potential victim's wallet to the address bc1qcry...vz55g. Following the transfer, the stolen stash was quickly laundered through over six… [+522 chars]     |Onchain investigator ZachXBT flagged a suspicious $330.7 million Bitcoin transfer that was quickly laundered into Monero, causing XMR's price to spike by 50%. CoinTelegraph reports: The transaction, reported on April 28, saw funds moved from a potential victi…|2025-04-28T21:00:00Z|{name -> Slashdot.org, id -> NULL}                |Monero Likely Pumped 50% Due To Suspected $330 Million Bitcoin Theft                                   |https://slashdot.org/story/25/04/28/198238/monero-likely-pumped-50-due-to-suspected-330-million-bitcoin-theft                |https://a.fsdn.com/sd/topics/bitcoin_64.png                                                                                                                                                  |\n",
            "|Khac Phu Nguyen   |Cantor Fitzgerald is going all in on Bitcoin (BTC-USD). Backed by stablecoin giant Tether Holdings SA and SoftBank Group, the firm just launched Twenty One Capital a bold crypto venture designed to r… [+2121 chars]    |Backed by Tether and SoftBank, Twenty One Capital is coming for Strategy's crypto crown -- and it's not playing small.                                                                                                                                              |2025-05-08T18:17:00Z|{name -> Yahoo Entertainment, id -> NULL}         |Wall Street's New Bitcoin Monster: Cantor's $4B Bet Could Dethrone Michael Saylor                      |https://finance.yahoo.com/news/wall-streets-bitcoin-monster-cantors-181700343.html                                           |https://media.zenfs.com/en/us.finance.gurufocus/8418d3e5e0cfadc2cca31a74a65f2db0                                                                                                             |\n",
            "|NULL              |If you click 'Accept all', we and our partners, including 241 who are part of the IAB Transparency &amp; Consent Framework, will also store and/or access information on a device (in other words, use … [+714 chars]     |NULL                                                                                                                                                                                                                                                                |2025-05-14T11:40:28Z|{name -> Yahoo Entertainment, id -> NULL}         |Bitcoin May Be Headed Towards a 2021-Like Double Top                                                   |https://consent.yahoo.com/v2/collectConsent?sessionId=1_cc-session_52cf7227-cb2e-4b82-a977-9d9743b66880                      |NULL                                                                                                                                                                                         |\n",
            "+------------------+--------------------------------------------------------------------------------------------------------------------------------------------------------------------------------------------------------------------------+--------------------------------------------------------------------------------------------------------------------------------------------------------------------------------------------------------------------------------------------------------------------+--------------------+--------------------------------------------------+-------------------------------------------------------------------------------------------------------+-----------------------------------------------------------------------------------------------------------------------------+---------------------------------------------------------------------------------------------------------------------------------------------------------------------------------------------+\n",
            "only showing top 10 rows\n",
            "\n"
          ]
        }
      ]
    },
    {
      "cell_type": "markdown",
      "source": [
        "we've loaded, combined, and previewed"
      ],
      "metadata": {
        "id": "6ZC-YcHbJcg1"
      }
    },
    {
      "cell_type": "code",
      "source": [
        "# Show column names\n",
        "print(\"Columns:\", combined_df.columns)\n",
        "\n",
        "# Show data types and structure\n",
        "combined_df.printSchema()"
      ],
      "metadata": {
        "colab": {
          "base_uri": "https://localhost:8080/"
        },
        "id": "574QKkGDJeLx",
        "outputId": "256cc473-f44a-4167-f05f-94cfa14a3ddd"
      },
      "execution_count": null,
      "outputs": [
        {
          "output_type": "stream",
          "name": "stdout",
          "text": [
            "Columns: ['author', 'content', 'description', 'publishedAt', 'source', 'title', 'url', 'urlToImage']\n",
            "root\n",
            " |-- author: string (nullable = true)\n",
            " |-- content: string (nullable = true)\n",
            " |-- description: string (nullable = true)\n",
            " |-- publishedAt: string (nullable = true)\n",
            " |-- source: map (nullable = true)\n",
            " |    |-- key: string\n",
            " |    |-- value: string (valueContainsNull = true)\n",
            " |-- title: string (nullable = true)\n",
            " |-- url: string (nullable = true)\n",
            " |-- urlToImage: string (nullable = true)\n",
            "\n"
          ]
        }
      ]
    },
    {
      "cell_type": "code",
      "source": [
        "from pyspark.sql.functions import col, lower, regexp_replace\n",
        "\n",
        "# Clean title, description, and content\n",
        "cleaned_df = combined_df.withColumn(\"clean_description\", lower(regexp_replace(col(\"description\"), \"[^a-zA-Z0-9\\s.,!?]\", \"\")))\\\n",
        "    .withColumn(\"clean_description\", lower(regexp_replace(col(\"description\"), \"[^a-zA-Z0-9\\s]\", \"\"))) \\\n",
        "    .withColumn(\"clean_content\", lower(regexp_replace(col(\"content\"), \"[^a-zA-Z0-9\\s]\", \"\")))"
      ],
      "metadata": {
        "id": "-uAg0pHOyIk6"
      },
      "execution_count": null,
      "outputs": []
    },
    {
      "cell_type": "markdown",
      "source": [
        "🔹 Why? To remove Arabic or other-language articles so your sentiment results are correct.\n"
      ],
      "metadata": {
        "id": "0aXCPbkxccGx"
      }
    },
    {
      "cell_type": "code",
      "source": [
        "# Drop rows with empty or null clean_description\n",
        "cleaned_df = cleaned_df.filter(col(\"clean_description\").isNotNull() & (col(\"clean_description\") != \"\"))"
      ],
      "metadata": {
        "id": "1o3wPja-fgSc"
      },
      "execution_count": null,
      "outputs": []
    },
    {
      "cell_type": "code",
      "source": [
        "from pyspark.sql.functions import udf, col\n",
        "from pyspark.sql.types import StringType\n",
        "# UDF for language detection\n",
        "def detect_language(text):\n",
        "    try:\n",
        "        return detect(text)\n",
        "    except:\n",
        "        return \"unknown\"\n",
        "\n",
        "detect_language_udf = udf(detect_language, StringType())\n",
        "cleaned_df = cleaned_df.withColumn(\"lang\", detect_language_udf(col(\"clean_description\")))"
      ],
      "metadata": {
        "id": "FX12jOIZfwG0"
      },
      "execution_count": null,
      "outputs": []
    },
    {
      "cell_type": "code",
      "source": [
        "# Cache the DataFrame here to save the detected languages results in memory\n",
        "cleaned_df = cleaned_df.cache()"
      ],
      "metadata": {
        "id": "iXqiom4CkZxx"
      },
      "execution_count": null,
      "outputs": []
    },
    {
      "cell_type": "code",
      "source": [
        "print(\"🔹 Detected languages and their counts:\")\n",
        "cleaned_df.groupBy(\"lang\").count().show()"
      ],
      "metadata": {
        "colab": {
          "base_uri": "https://localhost:8080/"
        },
        "id": "VnHfiU7agLEH",
        "outputId": "ed268661-4c76-477a-b70d-efbf3b1c5508"
      },
      "execution_count": null,
      "outputs": [
        {
          "output_type": "stream",
          "name": "stdout",
          "text": [
            "🔹 Detected languages and their counts:\n",
            "+-------+-----+\n",
            "|   lang|count|\n",
            "+-------+-----+\n",
            "|     en|   61|\n",
            "|     de|   13|\n",
            "|     es|    7|\n",
            "|     fr|    4|\n",
            "|unknown|    1|\n",
            "+-------+-----+\n",
            "\n"
          ]
        }
      ]
    },
    {
      "cell_type": "code",
      "source": [
        "# Count English before filtering\n",
        "english_before_filter = cleaned_df.filter(col(\"lang\") == \"en\").count()\n",
        "print(f\"English before filtering: {english_before_filter}\")"
      ],
      "metadata": {
        "colab": {
          "base_uri": "https://localhost:8080/"
        },
        "id": "doD0T6Hqiy7q",
        "outputId": "893db6fd-9961-4d22-b1d7-611464ccc301"
      },
      "execution_count": null,
      "outputs": [
        {
          "output_type": "stream",
          "name": "stdout",
          "text": [
            "English before filtering: 61\n"
          ]
        }
      ]
    },
    {
      "cell_type": "code",
      "source": [
        "cleaned_df = cleaned_df.filter(col(\"lang\") == \"en\")"
      ],
      "metadata": {
        "id": "Qrd86z5bggsG"
      },
      "execution_count": null,
      "outputs": []
    },
    {
      "cell_type": "code",
      "source": [
        "total_after = cleaned_df.count()\n",
        "print(f\"🔹 Total articles after keeping only English: {total_after}\")\n",
        "cleaned_df.groupBy(\"lang\").count().show()"
      ],
      "metadata": {
        "colab": {
          "base_uri": "https://localhost:8080/"
        },
        "id": "fCUdGlrRg0S8",
        "outputId": "d9bf5bc1-9e66-4522-f949-ac8779f1bae8"
      },
      "execution_count": null,
      "outputs": [
        {
          "output_type": "stream",
          "name": "stdout",
          "text": [
            "🔹 Total articles after keeping only English: 61\n",
            "+----+-----+\n",
            "|lang|count|\n",
            "+----+-----+\n",
            "|  en|   61|\n",
            "+----+-----+\n",
            "\n"
          ]
        }
      ]
    },
    {
      "cell_type": "code",
      "source": [
        "print(\"Columns:\", cleaned_df.columns)\n",
        "cleaned_df.select(\"title\", \"description\", \"clean_description\",\"lang\").show(5, truncate=False)"
      ],
      "metadata": {
        "colab": {
          "base_uri": "https://localhost:8080/"
        },
        "id": "Wv9eU1UeyiW0",
        "outputId": "260de2ce-057a-4e24-d740-340b0f21a09f"
      },
      "execution_count": null,
      "outputs": [
        {
          "output_type": "stream",
          "name": "stdout",
          "text": [
            "Columns: ['author', 'content', 'description', 'publishedAt', 'source', 'title', 'url', 'urlToImage', 'clean_description', 'clean_content', 'lang']\n",
            "+-------------------------------------------------------------------------------------------------------+--------------------------------------------------------------------------------------------------------------------------------------------------------------------------------------------------------------------------------------------------------------------+---------------------------------------------------------------------------------------------------------------------------------------------------------------------------------------------------------------------------------------------------------------+----+\n",
            "|title                                                                                                  |description                                                                                                                                                                                                                                                         |clean_description                                                                                                                                                                                                                                              |lang|\n",
            "+-------------------------------------------------------------------------------------------------------+--------------------------------------------------------------------------------------------------------------------------------------------------------------------------------------------------------------------------------------------------------------------+---------------------------------------------------------------------------------------------------------------------------------------------------------------------------------------------------------------------------------------------------------------+----+\n",
            "|19-Year-Old to Plead Guilty to Hacking Charges After Data Breach of Millions of Schoolchildren         |A company with the personal information of tens of millions of children was breached last year.                                                                                                                                                                     |a company with the personal information of tens of millions of children was breached last year                                                                                                                                                                 |en  |\n",
            "|Bitcoin price holds above $102,000 as BlackRock leads fund inflows                                     |Bitcoin traded relatively flat on Thursday as institutional investors resumed allocations into US-based spot bitcoin exchange-traded funds on Wednesday.                                                                                                            |bitcoin traded relatively flat on thursday as institutional investors resumed allocations into usbased spot bitcoin exchangetraded funds on wednesday                                                                                                          |en  |\n",
            "|Jamie Dimon opens the door to bitcoin, warns against stagflation in wide-ranging remarks to investors  |The JPMorgan CEO said the bank will allow investors to buy bitcoin while warning against stagflation and sounding a hopeful note on regulations.                                                                                                                    |the jpmorgan ceo said the bank will allow investors to buy bitcoin while warning against stagflation and sounding a hopeful note on regulations                                                                                                                |en  |\n",
            "|Swiss National Bank Chairman Rebuffs Bitcoin as Reserve Asset                                          |The head of the Swiss National Bank said on Friday that cryptocurrencies failed to meet the institution's currency reserve standards, rebuffing calls by crypto advocates that it hold bitcoin as a hedge against growing global economic risks. From a report: Cry…|the head of the swiss national bank said on friday that cryptocurrencies failed to meet the institutions currency reserve standards rebuffing calls by crypto advocates that it hold bitcoin as a hedge against growing global economic risks from a report cry|en  |\n",
            "|El Salvador's Bitcoin Holdings Show $357 Million In Unrealized Profit As Bitcoin Closes At Record Highs|El Salvador's bold foray into Bitcoin (CRYPTO: BTC) has entered a new chapter of profitability. As of May 19, the country's BTC portfolio stands at...                                                                                                              |el salvadors bold foray into bitcoin crypto btc has entered a new chapter of profitability as of may 19 the countrys btc portfolio stands at                                                                                                                   |en  |\n",
            "+-------------------------------------------------------------------------------------------------------+--------------------------------------------------------------------------------------------------------------------------------------------------------------------------------------------------------------------------------------------------------------------+---------------------------------------------------------------------------------------------------------------------------------------------------------------------------------------------------------------------------------------------------------------+----+\n",
            "only showing top 5 rows\n",
            "\n"
          ]
        }
      ]
    },
    {
      "cell_type": "markdown",
      "source": [
        "# distilBERT"
      ],
      "metadata": {
        "id": "TyLYyg9d3xXG"
      }
    },
    {
      "cell_type": "code",
      "source": [
        "!pip install -q transformers\n",
        "from transformers import pipeline"
      ],
      "metadata": {
        "id": "L9jgaYoj3wcC"
      },
      "execution_count": null,
      "outputs": []
    },
    {
      "cell_type": "markdown",
      "source": [
        "loading distilbert model :"
      ],
      "metadata": {
        "id": "xbVvE6lA4GId"
      }
    },
    {
      "cell_type": "code",
      "source": [
        "from pyspark.sql.functions import when\n",
        "\n",
        "cleaned_df = cleaned_df.withColumn(\n",
        "    \"text_for_sentiment\",\n",
        "    when(col(\"clean_description\").isNotNull() & (col(\"clean_description\") != \"\"), col(\"clean_description\"))\n",
        "    .otherwise(col(\"description\"))\n",
        ")"
      ],
      "metadata": {
        "id": "hUUN85Xlfna8"
      },
      "execution_count": null,
      "outputs": []
    },
    {
      "cell_type": "code",
      "source": [
        "sentiment_analyzer = pipeline(\"sentiment-analysis\", model=\"distilbert-base-uncased-finetuned-sst-2-english\")"
      ],
      "metadata": {
        "colab": {
          "base_uri": "https://localhost:8080/",
          "height": 326,
          "referenced_widgets": [
            "e61ccd442453417ba466acfb9bd381f1",
            "c8edb43d040d4a19aa9120623a80940e",
            "bd52132471be43cea8f624d4f45ba9f5",
            "4d280e6bdd564efd860586c94babbcff",
            "36b63c3c9b674f348e0824f463edf47c",
            "f320c8946c0e44e6b1c7b14102f52c1b",
            "d7410039dbaf4b44b8af97ad4a48a2be",
            "dd502cdd84f04f62a43d3633860759b3",
            "f655a3fc14bf447385f94edbf0e0a736",
            "45d22af61bd244ab9f91f9699a5e2dfe",
            "6dab354a182148f480e9792a9479cd13",
            "54bf8407e42748ea8aa06ddd29adb2a7",
            "fae10b51581c47e991f0c3a675d697ec",
            "e106bfd6d5ab4e77a5ba1f7714b069cc",
            "0260c0e0739e458e9e05322908536644",
            "f524fbc316284cf7a32d83295eda4fe6",
            "e0f3ba03215a40b8ab84dfd9ee090047",
            "3e9cc6d3d0e244538e4d97da6ca1296d",
            "ccde4c0fa4e14a2fabf473016599232f",
            "4183db6b6db84499a1e880f37a4a6864",
            "08c4972606ad4a21b37624b319dd0845",
            "fcd2b1b7999340b1bcc572f3240132ee",
            "2b40f219446441b188e3216d604e2075",
            "9cdf403700724d64924f3d879a256824",
            "8459fa717d59472ba5706f5ba8b0e2d1",
            "380d010cc6584d89b39f2e2c34c9b9b1",
            "a83b168cf7364cd988c816e2aaa6fae3",
            "da02ce55adb5442490458887ecf2800c",
            "e09fbe799fa74fb692113e9ab05a417a",
            "0a65f541874e49f78142c08b410f9761",
            "f3af339f123d44dd8aef78df9fcd91af",
            "ac99aea29a2e4ac3b61b44e09d164393",
            "a888869a0e104ba6a5a2334053c30cd1",
            "9968e5278b4141639412d6e0f9f2a848",
            "9d37eb7f3f84482d9188a79e833f0ca4",
            "ecce492d8a034a4ebd617ad28e719709",
            "322f06d1683c49c0a7a4e1aad403554b",
            "09526639d6d24a699691444f9c766cce",
            "519203e0cb7844e78bd84f30f570f37e",
            "1c954c32e8b5413c9fc317d08f814825",
            "9c4f9523c07441a2a1323906aa3d9191",
            "1d0197ec747a4d8283274584fdcf1af9",
            "fb24e1d4f46d4817ae8fd9e1493030d8",
            "ab6d125d817342c0b71da4ad072fdd75"
          ]
        },
        "id": "Q1jyofl536RZ",
        "outputId": "b3169c23-b336-409c-ea43-7f7f34d25278"
      },
      "execution_count": null,
      "outputs": [
        {
          "output_type": "stream",
          "name": "stderr",
          "text": [
            "/usr/local/lib/python3.11/dist-packages/huggingface_hub/utils/_auth.py:94: UserWarning: \n",
            "The secret `HF_TOKEN` does not exist in your Colab secrets.\n",
            "To authenticate with the Hugging Face Hub, create a token in your settings tab (https://huggingface.co/settings/tokens), set it as secret in your Google Colab and restart your session.\n",
            "You will be able to reuse this secret in all of your notebooks.\n",
            "Please note that authentication is recommended but still optional to access public models or datasets.\n",
            "  warnings.warn(\n"
          ]
        },
        {
          "output_type": "display_data",
          "data": {
            "text/plain": [
              "config.json:   0%|          | 0.00/629 [00:00<?, ?B/s]"
            ],
            "application/vnd.jupyter.widget-view+json": {
              "version_major": 2,
              "version_minor": 0,
              "model_id": "e61ccd442453417ba466acfb9bd381f1"
            }
          },
          "metadata": {}
        },
        {
          "output_type": "stream",
          "name": "stderr",
          "text": [
            "Xet Storage is enabled for this repo, but the 'hf_xet' package is not installed. Falling back to regular HTTP download. For better performance, install the package with: `pip install huggingface_hub[hf_xet]` or `pip install hf_xet`\n",
            "WARNING:huggingface_hub.file_download:Xet Storage is enabled for this repo, but the 'hf_xet' package is not installed. Falling back to regular HTTP download. For better performance, install the package with: `pip install huggingface_hub[hf_xet]` or `pip install hf_xet`\n"
          ]
        },
        {
          "output_type": "display_data",
          "data": {
            "text/plain": [
              "model.safetensors:   0%|          | 0.00/268M [00:00<?, ?B/s]"
            ],
            "application/vnd.jupyter.widget-view+json": {
              "version_major": 2,
              "version_minor": 0,
              "model_id": "54bf8407e42748ea8aa06ddd29adb2a7"
            }
          },
          "metadata": {}
        },
        {
          "output_type": "display_data",
          "data": {
            "text/plain": [
              "tokenizer_config.json:   0%|          | 0.00/48.0 [00:00<?, ?B/s]"
            ],
            "application/vnd.jupyter.widget-view+json": {
              "version_major": 2,
              "version_minor": 0,
              "model_id": "2b40f219446441b188e3216d604e2075"
            }
          },
          "metadata": {}
        },
        {
          "output_type": "display_data",
          "data": {
            "text/plain": [
              "vocab.txt:   0%|          | 0.00/232k [00:00<?, ?B/s]"
            ],
            "application/vnd.jupyter.widget-view+json": {
              "version_major": 2,
              "version_minor": 0,
              "model_id": "9968e5278b4141639412d6e0f9f2a848"
            }
          },
          "metadata": {}
        },
        {
          "output_type": "stream",
          "name": "stderr",
          "text": [
            "Device set to use cpu\n"
          ]
        }
      ]
    },
    {
      "cell_type": "markdown",
      "source": [
        "defining the function to get sentiment"
      ],
      "metadata": {
        "id": "Ny-PSiA34MDs"
      }
    },
    {
      "cell_type": "code",
      "source": [
        "def get_sentiment(text):\n",
        "    if text:\n",
        "        try:\n",
        "            result = sentiment_analyzer(text[:512])[0]\n",
        "            return (result['label'], float(result['score']))\n",
        "        except:\n",
        "            return (\"UNKNOWN\", 0.0)\n",
        "    else:\n",
        "        return (\"EMPTY\", 0.0)"
      ],
      "metadata": {
        "id": "vzqRiLvG4Fll"
      },
      "execution_count": null,
      "outputs": []
    },
    {
      "cell_type": "markdown",
      "source": [
        "create UDFs and apply them"
      ],
      "metadata": {
        "id": "VeRolcVc4SYh"
      }
    },
    {
      "cell_type": "code",
      "source": [
        "from pyspark.sql.functions import udf\n",
        "from pyspark.sql.types import StringType, FloatType\n",
        "\n",
        "get_sentiment_label_udf = udf(lambda x: get_sentiment(x)[0], StringType())\n",
        "get_sentiment_score_udf = udf(lambda x: get_sentiment(x)[1], FloatType())\n",
        "\n",
        "sentiment_df = cleaned_df.withColumn(\"sentiment_label\", get_sentiment_label_udf(col(\"text_for_sentiment\"))) \\\n",
        "                         .withColumn(\"sentiment_score\", get_sentiment_score_udf(col(\"text_for_sentiment\")))"
      ],
      "metadata": {
        "id": "fmnhbX3T4OnP"
      },
      "execution_count": null,
      "outputs": []
    },
    {
      "cell_type": "code",
      "source": [
        "sentiment_df.select(\"title\", \"sentiment_label\", \"sentiment_score\").show(10, truncate=False)\n",
        "sentiment_df.groupBy(\"sentiment_label\").count().show()"
      ],
      "metadata": {
        "colab": {
          "base_uri": "https://localhost:8080/"
        },
        "id": "-VpTgpK14SB3",
        "outputId": "831c5ebb-43e3-4fae-e4d6-be0e55c61f95"
      },
      "execution_count": null,
      "outputs": [
        {
          "output_type": "stream",
          "name": "stdout",
          "text": [
            "+------------------------------------------------------------------------------------------------------------+---------------+---------------+\n",
            "|title                                                                                                       |sentiment_label|sentiment_score|\n",
            "+------------------------------------------------------------------------------------------------------------+---------------+---------------+\n",
            "|American Bitcoin To Go Public: Key Details On Trump Family-Backed ABTC                                      |NEGATIVE       |0.99661547     |\n",
            "|ARK Invest Raises 2030 Bitcoin Price Target to as High as $2.4M in Bullish Scenario                         |NEGATIVE       |0.9900087      |\n",
            "|Serious BlackRock Bitcoin Warning Fuels ‘Disaster’ Fears As The Price Suddenly Dives                        |NEGATIVE       |0.5000525      |\n",
            "|‘Changing Fast’—Bitcoin Is Suddenly Braced For A $10 Trillion Wall Street ETF Price Boom                    |POSITIVE       |0.9979982      |\n",
            "|Why More Companies Are Adopting Bitcoin Treasuries Like MicroStrategy                                       |NEGATIVE       |0.9577252      |\n",
            "|Bitcoin Mining Poised For Growth Despite Short Term Pain                                                    |POSITIVE       |0.99935085     |\n",
            "|Forgotten ‘12,000 Companies’ Will Drive Bitcoin Price Next, Strategy’s Saylor Says                          |NEGATIVE       |0.998024       |\n",
            "|“Huge Blow”: Bitcoin Miners Push Back Against Trump Tariffs                                                 |NEGATIVE       |0.98458767     |\n",
            "|Why BTC May Be The Only Institutional Asset                                                                 |POSITIVE       |0.999281       |\n",
            "|‘Be Ready’—‘Earth-Shattering’ Trump Hint Sparks Wild Bitcoin Speculation As Price Suddenly Soars To $100,000|NEGATIVE       |0.9958923      |\n",
            "+------------------------------------------------------------------------------------------------------------+---------------+---------------+\n",
            "only showing top 10 rows\n",
            "\n",
            "+---------------+-----+\n",
            "|sentiment_label|count|\n",
            "+---------------+-----+\n",
            "|       POSITIVE|   59|\n",
            "|       NEGATIVE|  177|\n",
            "+---------------+-----+\n",
            "\n"
          ]
        }
      ]
    },
    {
      "cell_type": "code",
      "source": [
        "sentiment_pd = sentiment_df.select(\"title\", \"description\",\"clean_description\", \"sentiment_label\", \"sentiment_score\").toPandas()\n",
        "sentiment_pd.to_csv(\"distilbert_sentimentt.csv\", index=False)"
      ],
      "metadata": {
        "id": "MRyqkoyz5DPA"
      },
      "execution_count": null,
      "outputs": []
    },
    {
      "cell_type": "markdown",
      "source": [
        "# **finBERT**"
      ],
      "metadata": {
        "id": "u0USy8Hx5eCI"
      }
    },
    {
      "cell_type": "code",
      "source": [
        "from pyspark.sql import SparkSession\n",
        "from pyspark.sql.functions import col # Make sure col is imported\n",
        "\n",
        "spark = SparkSession.builder.appName(\"finbert_session\").getOrCreate()\n",
        "\n",
        "# Use cleaned_df from before, with only title and clean_description\n",
        "rdd = cleaned_df.select(\"title\", \"clean_description\").rdd"
      ],
      "metadata": {
        "id": "PMFJngn0GMQt"
      },
      "execution_count": null,
      "outputs": []
    },
    {
      "cell_type": "code",
      "source": [
        "from transformers import AutoModelForSequenceClassification, AutoTokenizer\n",
        "import torch\n",
        "import numpy as np\n",
        "\n",
        "# Load finBERT model and tokenizer once globally\n",
        "model_name = \"yiyanghkust/finbert-tone\"\n",
        "tokenizer = AutoTokenizer.from_pretrained(model_name)\n",
        "model = AutoModelForSequenceClassification.from_pretrained(model_name)\n",
        "\n",
        "def analyze_partition(partition):\n",
        "    results = []\n",
        "    for row in partition:\n",
        "        title = row['title']\n",
        "        text = row['clean_description']\n",
        "        if not text:\n",
        "            results.append((title, text, None, 0.0))\n",
        "            continue\n",
        "\n",
        "        # Tokenize the input text\n",
        "        inputs = tokenizer(text, return_tensors=\"pt\", truncation=True, padding=True, max_length=512)\n",
        "\n",
        "        # Predict sentiment with no gradient calculation\n",
        "        with torch.no_grad():\n",
        "            outputs = model(**inputs)\n",
        "            scores = outputs.logits.softmax(dim=1).cpu().numpy()[0]\n",
        "\n",
        "        labels = [\"neutral\", \"positive\", \"negative\"]\n",
        "        max_idx = np.argmax(scores)\n",
        "        label = labels[max_idx]\n",
        "        score = float(scores[max_idx])\n",
        "\n",
        "        results.append((title, text, label, score))\n",
        "    return iter(results)"
      ],
      "metadata": {
        "colab": {
          "base_uri": "https://localhost:8080/",
          "height": 272,
          "referenced_widgets": [
            "a42971d6406e4ae6841b4c7ccdc2012a",
            "c0d6a639acbc4b7c97831dfb4733be39",
            "02af66992be74db299feb86a0d8a0bb4",
            "6cf4e5de33984acea63a2b510936aea0",
            "134e8c4e45d740489102aa5b3c32e64b",
            "26d287d2926b467faf3771e8282877c0",
            "3d81ea483d254cbe96e73c75d2801d46",
            "c92905f4bb5944b9a55cc2cb99c79770",
            "d87615fce441495e83aba04ae71c181e",
            "655747013d7d4dce856aa71ba67a920d",
            "0ad1023674fe466c90c3381fe4c7babb",
            "e3f7161f0dc44ebda5c28bd66987cb7b",
            "8bfe91056aeb44d8adaa8587a6d0595a",
            "7a50388cafbf4a56a9b2fdef569764b5",
            "5f46f5fd556545ac896c2b892cb0b982",
            "e4a30bd92ff543e3947564e164573d9a",
            "31e2ce2b0ea34a8b806ae631b1f01316",
            "bfa0cd8685484257a173a50e5ad30b7a",
            "2ddf75f9546d4dd7b88a4eaec7bc69c0",
            "c3e47cb15d5a44b6a1f90795b27fd877",
            "11991350cf9343d59ca52d1269d163dd",
            "43f6e1e5f7d04e11b1320c32370b5635",
            "ff4d15d4705c407ab2a22b179b4f81b5",
            "a6b1355da1ad49ab95781c8170c5c61e",
            "e116bd48e43b46be975570be012bc4b6",
            "22f5aac0eeb84e528e6b2d17611c0061",
            "5df2bd69fa4f433a8bf2006243e39759",
            "f0bff7f47b30425b954ba69ebb22968c",
            "f2e0fa3c15a34697ade6e1c54525eb55",
            "f822bea622be4cd2bd761a1cbab43669",
            "7e5290ef5f8a49358aac0ea8bd305a8b",
            "a605c39da61a4ff7b3951746e387dddc",
            "d2e52aec753949fd9a78bef09dbe1f4a",
            "9099945c5c744a85aaf63959dc4cb8e5",
            "d8fc1b811ccd49198da1c965c2fc2fd4",
            "6ddf2b3092a34e058c78f16df477802d",
            "f679a929863e4885bc806bc41dc23737",
            "a3250a2011054cb9806c379a833bbf47",
            "06e9a774f1134ce5ab3bcc94e9324e25",
            "4a01b59eb80b422eac5057f20fe04141",
            "54935156d1ba45b68c78f5ea01c5989d",
            "9f161490fc5d4b619ae3bd590cdc598c",
            "bac973c3796f468db5a32464a023c0e6",
            "290e3b12289244d385ba557fbbe36179"
          ]
        },
        "id": "LvUgZawchf5q",
        "outputId": "892d2640-8550-439e-91e9-2b14262984a5"
      },
      "execution_count": null,
      "outputs": [
        {
          "output_type": "stream",
          "name": "stderr",
          "text": [
            "/usr/local/lib/python3.11/dist-packages/huggingface_hub/utils/_auth.py:94: UserWarning: \n",
            "The secret `HF_TOKEN` does not exist in your Colab secrets.\n",
            "To authenticate with the Hugging Face Hub, create a token in your settings tab (https://huggingface.co/settings/tokens), set it as secret in your Google Colab and restart your session.\n",
            "You will be able to reuse this secret in all of your notebooks.\n",
            "Please note that authentication is recommended but still optional to access public models or datasets.\n",
            "  warnings.warn(\n"
          ]
        },
        {
          "output_type": "display_data",
          "data": {
            "text/plain": [
              "config.json:   0%|          | 0.00/533 [00:00<?, ?B/s]"
            ],
            "application/vnd.jupyter.widget-view+json": {
              "version_major": 2,
              "version_minor": 0,
              "model_id": "a42971d6406e4ae6841b4c7ccdc2012a"
            }
          },
          "metadata": {}
        },
        {
          "output_type": "display_data",
          "data": {
            "text/plain": [
              "vocab.txt:   0%|          | 0.00/226k [00:00<?, ?B/s]"
            ],
            "application/vnd.jupyter.widget-view+json": {
              "version_major": 2,
              "version_minor": 0,
              "model_id": "e3f7161f0dc44ebda5c28bd66987cb7b"
            }
          },
          "metadata": {}
        },
        {
          "output_type": "display_data",
          "data": {
            "text/plain": [
              "pytorch_model.bin:   0%|          | 0.00/439M [00:00<?, ?B/s]"
            ],
            "application/vnd.jupyter.widget-view+json": {
              "version_major": 2,
              "version_minor": 0,
              "model_id": "ff4d15d4705c407ab2a22b179b4f81b5"
            }
          },
          "metadata": {}
        },
        {
          "output_type": "display_data",
          "data": {
            "text/plain": [
              "model.safetensors:   0%|          | 0.00/439M [00:00<?, ?B/s]"
            ],
            "application/vnd.jupyter.widget-view+json": {
              "version_major": 2,
              "version_minor": 0,
              "model_id": "9099945c5c744a85aaf63959dc4cb8e5"
            }
          },
          "metadata": {}
        }
      ]
    },
    {
      "cell_type": "code",
      "source": [
        "result_rdd = rdd.mapPartitions(analyze_partition)"
      ],
      "metadata": {
        "id": "CKRTGMo0aU_B"
      },
      "execution_count": null,
      "outputs": []
    },
    {
      "cell_type": "code",
      "source": [
        "# Define schema and convert RDD to DataFrame\n",
        "from pyspark.sql.types import StructType, StructField, StringType, FloatType\n",
        "\n",
        "schema = StructType([\n",
        "    StructField(\"title\", StringType(), True),\n",
        "    StructField(\"clean_description\", StringType(), True),\n",
        "    StructField(\"finbert_label\", StringType(), True),\n",
        "    StructField(\"finbert_score\", FloatType(), True),\n",
        "])\n",
        "\n",
        "finbert_df = spark.createDataFrame(result_rdd, schema=schema)"
      ],
      "metadata": {
        "id": "0_3-07rtK55B"
      },
      "execution_count": null,
      "outputs": []
    },
    {
      "cell_type": "code",
      "source": [
        "# Show results\n",
        "finbert_df.select(\"title\", \"finbert_label\", \"finbert_score\").show(30, truncate=False)"
      ],
      "metadata": {
        "colab": {
          "base_uri": "https://localhost:8080/"
        },
        "id": "weLWtgbqKURI",
        "outputId": "8b4e2a71-cd14-431b-bc45-56d75aeeb8a3"
      },
      "execution_count": null,
      "outputs": [
        {
          "output_type": "stream",
          "name": "stdout",
          "text": [
            "+-------------------------------------------------------------------------------------------------------------------------------------------------------+-------------+-------------+\n",
            "|title                                                                                                                                                  |finbert_label|finbert_score|\n",
            "+-------------------------------------------------------------------------------------------------------------------------------------------------------+-------------+-------------+\n",
            "|19-Year-Old to Plead Guilty to Hacking Charges After Data Breach of Millions of Schoolchildren                                                         |neutral      |0.9969463    |\n",
            "|Bitcoin price holds above $102,000 as BlackRock leads fund inflows                                                                                     |neutral      |0.9999635    |\n",
            "|Jamie Dimon opens the door to bitcoin, warns against stagflation in wide-ranging remarks to investors                                                  |neutral      |0.93998665   |\n",
            "|Swiss National Bank Chairman Rebuffs Bitcoin as Reserve Asset                                                                                          |negative     |0.97003025   |\n",
            "|El Salvador's Bitcoin Holdings Show $357 Million In Unrealized Profit As Bitcoin Closes At Record Highs                                                |neutral      |0.97556597   |\n",
            "|Markets reel after Trump resumes tariff talks with Canada                                                                                              |neutral      |0.99999535   |\n",
            "|The Significance of Jamie Dimon’s Reluctant Bitcoin Surrender                                                                                          |neutral      |0.9986059    |\n",
            "|Monero Likely Pumped 50% Due To Suspected $330 Million Bitcoin Theft                                                                                   |neutral      |0.9209698    |\n",
            "|Wall Street's New Bitcoin Monster: Cantor's $4B Bet Could Dethrone Michael Saylor                                                                      |neutral      |0.9999658    |\n",
            "|Bitcoin Mining Is No Longer Worth it                                                                                                                   |neutral      |0.968348     |\n",
            "|Tech Company With Chinese Ties Wants to Buy $300 Million in $TRUMP Coin                                                                                |neutral      |0.9987079    |\n",
            "|Meta’s AI app is a nightmarish social feed                                                                                                             |neutral      |0.99992764   |\n",
            "|Raising ethics questions, top Trump meme coin investors to dine with president tonight                                                                 |neutral      |0.9999832    |\n",
            "|DOGE Aide Involved in Dismantling Consumer Bureau Owns Stock in Companies That Could Benefit From Cuts                                                 |negative     |0.85287565   |\n",
            "|Michael Saylor’s new advice? 'Sell a tooth if you must'                                                                                                |neutral      |0.9999764    |\n",
            "|Peter Schiff Predicts 'Fireworks,' Says Michael Saylor's Strategy Will See Unrealized Loss During Bitcoin's Next Bearish Dip                           |neutral      |0.9268539    |\n",
            "|This Bitcoin Encryption Comes from Renaissance Art and Math                                                                                            |neutral      |0.9999181    |\n",
            "|Trump Struggles to Silence His Ringing iPhone During Press Conference                                                                                  |neutral      |0.9999887    |\n",
            "|Govee’s Pixel Lights Make My Dumb Gamer Brain a Little Too Happy                                                                                       |neutral      |0.9790263    |\n",
            "|Dutch neobank Bunq launches crypto trading service                                                                                                     |neutral      |0.9999949    |\n",
            "|'Crypto king' turned NYC townhouse into torture chamber to gain partner Bitcoin                                                                        |neutral      |0.99992764   |\n",
            "|5 big crypto shifts no one’s talking about in 2025                                                                                                     |neutral      |0.99932015   |\n",
            "|China Reviews U.S. Proposal to Scale Down Tariffs                                                                                                      |positive     |0.68500555   |\n",
            "|Trump's first trade deal has Wall Street cheering. Not everyone is convinced.                                                                          |neutral      |0.9846423    |\n",
            "|Crypto billionaire Justin Sun showed off a $100K Trump watch after an exclusive dinner with the president — here's everything you should know about him|neutral      |0.9999975    |\n",
            "|Hash Functions with the Golden Ratio                                                                                                                   |neutral      |0.9995289    |\n",
            "|Man tortured for weeks in NYC apartment, escapes, suspect arrested                                                                                     |neutral      |0.9998882    |\n",
            "|Why Crypto Leaders Are Feeling Optimistic About the Future: ‘The Crypto Revolution Is Happening’                                                       |positive     |0.73653966   |\n",
            "|Who Can Stop Crypto Now?                                                                                                                               |negative     |0.99095964   |\n",
            "|Forget Dogecoin And Shiba Inu — Crypto Analyst Sees This Coin Surging 100%                                                                             |neutral      |0.888998     |\n",
            "+-------------------------------------------------------------------------------------------------------------------------------------------------------+-------------+-------------+\n",
            "only showing top 30 rows\n",
            "\n"
          ]
        }
      ]
    },
    {
      "cell_type": "markdown",
      "source": [
        "# comparison"
      ],
      "metadata": {
        "id": "PySMhIc0lOTn"
      }
    },
    {
      "cell_type": "code",
      "source": [
        "from pyspark.sql.functions import col\n",
        "\n",
        "sentiment_df = spark.read.option(\"header\", \"true\").csv(\"distilbert_sentimentt.csv\")\n",
        "sentiment_df = sentiment_df.withColumn(\"sentiment_score\", col(\"sentiment_score\").cast(\"float\"))"
      ],
      "metadata": {
        "id": "Xcc3kQzjbaqP"
      },
      "execution_count": null,
      "outputs": []
    },
    {
      "cell_type": "code",
      "source": [
        "# Join on 'title' (assuming title is unique and consistent)\n",
        "BERTs = sentiment_df.join(\n",
        "    finbert_df.select(\"title\", \"finbert_label\", \"finbert_score\"),\n",
        "    on=\"title\",\n",
        "    how=\"inner\"\n",
        ")"
      ],
      "metadata": {
        "id": "HbMEQPMOa8F-"
      },
      "execution_count": null,
      "outputs": []
    },
    {
      "cell_type": "code",
      "source": [
        "BERTs.select(\"title\", \"sentiment_label\", \"sentiment_score\", \"finbert_label\", \"finbert_score\").show(20, truncate=False)"
      ],
      "metadata": {
        "colab": {
          "base_uri": "https://localhost:8080/"
        },
        "id": "z-2c7ByPbxns",
        "outputId": "d0538ac7-7fd2-4430-c43b-f7c059e06c9a"
      },
      "execution_count": null,
      "outputs": [
        {
          "output_type": "stream",
          "name": "stdout",
          "text": [
            "+------------------------------------------------------------------------------------------------------------+---------------+---------------+-------------+-------------+\n",
            "|title                                                                                                       |sentiment_label|sentiment_score|finbert_label|finbert_score|\n",
            "+------------------------------------------------------------------------------------------------------------+---------------+---------------+-------------+-------------+\n",
            "|American Bitcoin To Go Public: Key Details On Trump Family-Backed ABTC                                      |NEGATIVE       |0.99661547     |neutral      |0.9999672    |\n",
            "|ARK Invest Raises 2030 Bitcoin Price Target to as High as $2.4M in Bullish Scenario                         |NEGATIVE       |0.9900087      |positive     |1.0          |\n",
            "|Serious BlackRock Bitcoin Warning Fuels ‘Disaster’ Fears As The Price Suddenly Dives                        |NEGATIVE       |0.5000525      |negative     |0.9914579    |\n",
            "|‘Changing Fast’—Bitcoin Is Suddenly Braced For A $10 Trillion Wall Street ETF Price Boom                    |POSITIVE       |0.9979982      |neutral      |0.99999905   |\n",
            "|Why More Companies Are Adopting Bitcoin Treasuries Like MicroStrategy                                       |NEGATIVE       |0.9577252      |neutral      |0.9683744    |\n",
            "|Bitcoin Mining Poised For Growth Despite Short Term Pain                                                    |POSITIVE       |0.99935085     |positive     |1.0          |\n",
            "|Forgotten ‘12,000 Companies’ Will Drive Bitcoin Price Next, Strategy’s Saylor Says                          |NEGATIVE       |0.998024       |positive     |0.99999547   |\n",
            "|“Huge Blow”: Bitcoin Miners Push Back Against Trump Tariffs                                                 |NEGATIVE       |0.98458767     |negative     |0.9627528    |\n",
            "|Why BTC May Be The Only Institutional Asset                                                                 |POSITIVE       |0.999281       |neutral      |0.9594903    |\n",
            "|‘Be Ready’—‘Earth-Shattering’ Trump Hint Sparks Wild Bitcoin Speculation As Price Suddenly Soars To $100,000|NEGATIVE       |0.9958923      |neutral      |0.4988635    |\n",
            "|Trump’s Very Stable Genius Coin                                                                             |NULL           |NULL           |positive     |0.86614925   |\n",
            "|‘Buy Everything’—Bitcoin Braced For A Huge Earthquake As Leak Fuels $3 Trillion Crypto Price Rally          |NEGATIVE       |0.9841485      |positive     |0.9998617    |\n",
            "|Crypto for Advisors: Generating Yield With Bitcoin                                                          |POSITIVE       |0.9988531      |positive     |1.0          |\n",
            "|Metaplanet’s Leverages Its Bitcoin Stash of Over 5K BTC to Generate Record Profit of $4M                    |NEGATIVE       |0.94307935     |neutral      |0.5699373    |\n",
            "|Nigerian Gov Passes Law Recognizing Bitcoin As A Security                                                   |POSITIVE       |0.9793174      |neutral      |0.9989157    |\n",
            "|Bitcoin’s Rally Feels Thin As Liquidity, Not Fundamentals, Drives The Market                                |NEGATIVE       |0.99821705     |neutral      |0.73615557   |\n",
            "|Up 25% In A Month Is Bitcoin Eyeing To Break Its All-Time Highs?                                            |POSITIVE       |0.9934674      |positive     |0.9409934    |\n",
            "|Strategy acquires 6,556 Bitcoin for $555.8M                                                                 |NEGATIVE       |0.9841999      |neutral      |0.9999931    |\n",
            "|Standard Chartered apologises on bullish Bitcoin prediction                                                 |NULL           |NULL           |negative     |0.9998783    |\n",
            "|Leak Reveals Mark Zuckerberg Is Quietly Plotting To Blow Up The Bitcoin Price And Crypto Market             |NULL           |NULL           |neutral      |0.9999893    |\n",
            "+------------------------------------------------------------------------------------------------------------+---------------+---------------+-------------+-------------+\n",
            "only showing top 20 rows\n",
            "\n"
          ]
        }
      ]
    },
    {
      "cell_type": "code",
      "source": [
        "import matplotlib.pyplot as plt\n",
        "\n",
        "# Step 1: Fix case and remove invalid values\n",
        "valid_labels = ['positive', 'neutral', 'negative']\n",
        "\n",
        "# Convert to lowercase\n",
        "df['sentiment_label'] = df['sentiment_label'].astype(str).str.lower()\n",
        "df['finbert_label'] = df['finbert_label'].astype(str).str.lower()\n",
        "\n",
        "# Filter only rows where both labels are valid\n",
        "df_clean = df[df['sentiment_label'].isin(valid_labels) & df['finbert_label'].isin(valid_labels)]\n",
        "\n",
        "# Step 2: Count sentiments for each model\n",
        "distil_counts = df_clean['sentiment_label'].value_counts()\n",
        "finbert_counts = df_clean['finbert_label'].value_counts()\n",
        "\n",
        "# Step 3: Plot comparison\n",
        "labels = ['positive', 'neutral', 'negative']\n",
        "distil_vals = [distil_counts.get(label, 0) for label in labels]\n",
        "finbert_vals = [finbert_counts.get(label, 0) for label in labels]\n",
        "\n",
        "x = range(len(labels))\n",
        "width = 0.35\n",
        "\n",
        "plt.figure(figsize=(8, 5))\n",
        "plt.bar(x, distil_vals, width=width, label='DistilBERT', color='skyblue')\n",
        "plt.bar([p + width for p in x], finbert_vals, width=width, label='FinBERT', color='orange')\n",
        "\n",
        "plt.xticks([p + width/2 for p in x], labels)\n",
        "plt.ylabel(\"Number of Predictions\")\n",
        "plt.title(\"Sentiment Comparison: DistilBERT vs FinBERT\")\n",
        "plt.legend()\n",
        "plt.tight_layout()\n",
        "plt.show()\n"
      ],
      "metadata": {
        "colab": {
          "base_uri": "https://localhost:8080/",
          "height": 507
        },
        "id": "FXW-yHUtl3IH",
        "outputId": "816f13d6-703a-41b9-b71c-4965316addd4"
      },
      "execution_count": null,
      "outputs": [
        {
          "output_type": "display_data",
          "data": {
            "text/plain": [
              "<Figure size 800x500 with 1 Axes>"
            ],
            "image/png": "[encoded data removed]"
          },
          "metadata": {}
        }
      ]
    },
    {
      "cell_type": "code",
      "source": [
        "# Combine both sentiment results into one DataFrame\n",
        "combined_df = sentiment_df.join(\n",
        "    finbert_df.select(\"title\", \"finbert_label\", \"finbert_score\"),\n",
        "    on=\"title\",\n",
        "    how=\"inner\"\n",
        ")\n",
        "\n",
        "# Convert to Pandas for easier iteration (if not already)\n",
        "results_pd = combined_df.toPandas()\n",
        "\n",
        "# Save each article to Firestore\n",
        "for _, row in results_pd.iterrows():\n",
        "    doc_ref = db.collection(\"news_sentiment\").document()  # Auto-generate document ID\n",
        "    doc_ref.set({\n",
        "        \"title\": row[\"title\"],\n",
        "        \"description\": row[\"description\"],\n",
        "        \"distilbert_sentiment\": row[\"sentiment_label\"],\n",
        "        \"distilbert_score\": float(row[\"sentiment_score\"]),  # Ensure float type\n",
        "        \"finbert_sentiment\": row[\"finbert_label\"],\n",
        "        \"finbert_score\": float(row[\"finbert_score\"]),\n",
        "        \"timestamp\": firestore.SERVER_TIMESTAMP  # Auto-adds server time\n",
        "    })\n",
        "print(f\"Saved {len(results_pd)} articles to Firestore.\")"
      ],
      "metadata": {
        "colab": {
          "base_uri": "https://localhost:8080/"
        },
        "id": "ksSr9PtzZHCh",
        "outputId": "5dcbd52a-1536-4e17-bebd-e6fbc9aba833"
      },
      "execution_count": null,
      "outputs": [
        {
          "output_type": "stream",
          "name": "stdout",
          "text": [
            "Saved 34 articles to Firestore.\n"
          ]
        }
      ]
    },
    {
      "cell_type": "code",
      "source": [],
      "metadata": {
        "id": "9tt9Mpxfah8F"
      },
      "execution_count": null,
      "outputs": []
    }
  ]
}